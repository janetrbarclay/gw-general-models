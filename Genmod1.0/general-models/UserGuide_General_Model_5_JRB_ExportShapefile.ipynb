{
 "cells": [
  {
   "cell_type": "markdown",
   "metadata": {
    "slideshow": {
     "slide_type": "slide"
    }
   },
   "source": [
    "# Export a shapefile of a general MODFLOW model from the NHDPlus dataset"
   ]
  },
  {
   "cell_type": "markdown",
   "metadata": {},
   "source": [
    "This notebook implements a grid-search approach to finding hydraulic conductivities that result in heads that seem reasonable."
   ]
  },
  {
   "cell_type": "markdown",
   "metadata": {},
   "source": [
    "Project specific variables are imported in the model_spec.py and gen_mod_dict.py files that must be included in the notebook directory. The first first includes pathnames to data sources that will be different for each user. The second file includes a dictionary of model-specific information such as  cell size, default hydraulic parameter values, and scenario defintion (e.g. include bedrock, number of layers, etc.). There are examples in the repository. Run the following cells up to the \"Run to here\" cell to get a pull-down menu of models in the model_dict. Then, without re-running that cell, run all the remaining cells.  Re-running the following cell would re-set the model to the first one in the list, which you probably don't want. If you use the notebook option to run all cells below, it runs the cell you're in, so if you use that option, move to the next cell (below the pull-down menu of models) first."
   ]
  },
  {
   "cell_type": "code",
   "execution_count": 3,
   "metadata": {
    "collapsed": false,
    "scrolled": true,
    "slideshow": {
     "slide_type": "fragment"
    }
   },
   "outputs": [
    {
     "name": "stdout",
     "output_type": "stream",
     "text": [
      "3.5.3 |Continuum Analytics, Inc.| (default, Feb 22 2017, 21:28:42) [MSC v.1900 64 bit (AMD64)]\n"
     ]
    }
   ],
   "source": [
    "__author__ = 'Jeff Starn'\n",
    "%matplotlib notebook\n",
    "from model_specs import *\n",
    "from gen_mod_dict import *\n",
    "\n",
    "import os, sys\n",
    "import shutil\n",
    "import numpy as np\n",
    "import matplotlib.pyplot as plt\n",
    "\n",
    "from flopy.utils.postprocessing import get_water_table\n",
    "\n",
    "\n",
    "import flopy.utils.binaryfile as bf\n",
    "from matplotlib import colors\n",
    "import flopy as fp\n",
    "import pandas as pd\n",
    "# import ipyparallel as ipp\n",
    "# from model_specs import *\n",
    "# from gen_mod_dict import *\n",
    "\n",
    "from ipywidgets import interact, Dropdown\n",
    "from IPython.display import display\n",
    "\n",
    "print(sys.version)"
   ]
  },
  {
   "cell_type": "markdown",
   "metadata": {},
   "source": [
    "The next cell is a template for making this notebook into a batch script. To do so, save this notebook as a .py file and edit it as follows. Comment out all the notebook-specific commands (drop-down menu stuff and commands preceded by %). Indent everything below the next cell twice so that it falls within the 'for' loop and the 'try' statement. Move the 'except' statement to the end of the script. Comment out lines in the cell after 'Preliminary stuff' so that the model is selected in the 'for' loop from gen_mod_dict. You can leave the print statement in that cell uncommented. "
   ]
  },
  {
   "cell_type": "code",
   "execution_count": 4,
   "metadata": {
    "collapsed": false
   },
   "outputs": [
    {
     "name": "stdout",
     "output_type": "stream",
     "text": [
      "trying Niantic\n",
      "trying CoastalCT\n",
      "trying Assabet\n"
     ]
    }
   ],
   "source": [
    "for key, value in model_dict.items():   # from \"gen_mod_dict.py\"\n",
    "    md = key\n",
    "    ms = model_dict[md]\n",
    "    print('trying {}'.format(md))\n",
    "    try:\n",
    "        pass\n",
    "    except:\n",
    "        pass"
   ]
  },
  {
   "cell_type": "code",
   "execution_count": 5,
   "metadata": {
    "collapsed": true
   },
   "outputs": [],
   "source": [
    "models = list(model_dict.keys())\n",
    "models.sort()\n",
    "model_area = Dropdown(\n",
    "    options=models,\n",
    "    description='Model:',\n",
    "    background_color='cyan',\n",
    "    border_color='black',\n",
    "    border_width=2)\n",
    "display(model_area)"
   ]
  },
  {
   "cell_type": "markdown",
   "metadata": {},
   "source": [
    "### Run to here to initiate notebook"
   ]
  },
  {
   "cell_type": "markdown",
   "metadata": {},
   "source": [
    "First time using this notebook in this session (before restarting the notebook), run the cells up to this point. Then select your model from the dropdown list above. Move your cursor to this cell and use the toolbar menu Cell --> Run All Below.  After the first time, if you want to run another model, select your model and start running from this cell--you don't need to re-run the cells from the beginning."
   ]
  },
  {
   "cell_type": "markdown",
   "metadata": {},
   "source": [
    "## Preliminary stuff"
   ]
  },
  {
   "cell_type": "code",
   "execution_count": 79,
   "metadata": {
    "collapsed": false
   },
   "outputs": [
    {
     "name": "stdout",
     "output_type": "stream",
     "text": [
      "The model being processed is CoastalCT\n",
      "\n"
     ]
    }
   ],
   "source": [
    "md = model_area.value\n",
    "ms = model_dict[md]\n",
    "print('The model being processed is {}\\n'.format(md))"
   ]
  },
  {
   "cell_type": "markdown",
   "metadata": {},
   "source": [
    "### Get the calibration scenario"
   ]
  },
  {
   "cell_type": "markdown",
   "metadata": {},
   "source": [
    "Copy model to be calibrated (parent model) to new directory. Define the weight, which is used after all the models are run to find the best set of parameters by weighting the error rates. It is specified here so it can be used in the directory name. Weights > 1 result in fewer dry drains and more cells with heads above land surface. That tends to mean lower hydraulic conductivities."
   ]
  },
  {
   "cell_type": "code",
   "execution_count": 21,
   "metadata": {
    "collapsed": false
   },
   "outputs": [],
   "source": [
    "hydro_wt = 1.0\n",
    "calib=True\n",
    "\n",
    "geo_ws = os.path.join(proj_dir, ms['ws'])\n",
    "parent_ws = os.path.join(geo_ws, scenario_dir)\n",
    "if calib:\n",
    "    dir_name = '{}_cal_wt_{:4.2f}'.format(scenario_dir, hydro_wt)\n",
    "else:\n",
    "    dir_name = scenario_dir\n",
    "model_ws = os.path.join(geo_ws, dir_name)\n",
    "\n",
    "if not os.path.exists(model_ws):\n",
    "    print('This calibration scenario has not been completed')"
   ]
  },
  {
   "cell_type": "markdown",
   "metadata": {},
   "source": [
    "Load existing model and some packages needed for parameter estimation"
   ]
  },
  {
   "cell_type": "code",
   "execution_count": 89,
   "metadata": {
    "collapsed": false,
    "scrolled": true
   },
   "outputs": [],
   "source": [
    "nam_file = '{}.nam'.format(md)\n",
    "mf = fp.modflow.Modflow.load(nam_file, version='mfnwt', exe_name=mfpth, verbose=False, model_ws=model_ws, load_only=None)\n",
    "\n",
    "bas = mf.get_package('BAS6')\n",
    "dis = mf.get_package('DIS')\n",
    "upw = mf.get_package('UPW')\n",
    "oc = mf.get_package('OC')\n",
    "well = mf.get_package('WEL')\n",
    "head_file_pth = os.path.join(model_ws, '{}.hds'.format(md))\n",
    "\n",
    "ibound = bas.ibound\n",
    "botm = dis.getbotm()\n",
    "hdsobj = bf.HeadFile(head_file_pth)\n",
    "hds = hdsobj.get_data()\n",
    "wt = get_water_table(heads=hds, nodata=-8890)\n",
    "\n",
    "model_file = os.path.join(geo_ws, 'model_grid.csv')\n",
    "model_grid = pd.read_csv(model_file, na_values=[hnoflo, hdry])\n",
    "\n",
    "land_surface = model_grid.top\n",
    "top = land_surface.values.reshape(dis.nrow, dis.ncol)\n",
    "node = model_grid.node_num.values.reshape(dis.nrow,dis.ncol)"
   ]
  },
  {
   "cell_type": "code",
   "execution_count": 90,
   "metadata": {
    "collapsed": false
   },
   "outputs": [],
   "source": [
    "#make a dictionary of heads to export with the model parameters\n",
    "other_dict={}\n",
    "\n",
    "#loop through the model layers\n",
    "for i in range(hds.shape[0]):\n",
    "    other_dict[\"head_\"+str(i)]=hds[i,:,:]\n",
    "    \n",
    "zone_file = os.path.join(model_ws, 'zone_array.npz')\n",
    "if os.path.isfile(zone_file):\n",
    "    zones = np.load(zone_file)\n",
    "    zones = zones['zone']\n",
    "    for i in range(zones.shape[0]):\n",
    "        other_dict[\"surfzone_\"+str(i)]=zones[i,:,:]\n",
    "\n",
    "other_dict[\"ZoneBud\"]=model_grid.zone.values.reshape(dis.nrow, dis.ncol)\n",
    "\n",
    "other_dict[\"Pop\"]=model_grid.population.values.reshape(dis.nrow, dis.ncol)\n",
    "other_dict[\"wt\"]=wt\n",
    "other_dict[\"DTW_m\"]=top - wt\n",
    "other_dict[\"land_surface\"]=top\n",
    "other_dict[\"node\"]=node\n"
   ]
  },
  {
   "cell_type": "code",
   "execution_count": 91,
   "metadata": {
    "collapsed": false
   },
   "outputs": [],
   "source": [
    "cbb = fp.utils.CellBudgetFile(os.path.join(model_ws,md+\".cbc\"))\n",
    "CGWD = cbb.get_data(text=b' HEAD DEP BOUNDS')[0]\n",
    "CGWD_DF = pd.DataFrame(CGWD)\n",
    "CGWD_DF = CGWD_DF.rename(index=str,columns={\"node\":\"node_num\"})\n",
    "#adjust the node numbering\n",
    "CGWD_DF.node_num = CGWD_DF.node_num-1\n",
    "model_grid = pd.merge(model_grid,CGWD_DF,\"left\",\"node_num\", sort=False)\n",
    "CGWD_q = -1*model_grid.q.values.reshape(dis.nrow, dis.ncol)\n",
    "other_dict['CGWD_q'] = CGWD_q\n",
    "\n",
    "\n",
    "#outFile = os.path.join(model_ws,\"CGWD_out2.csv\")\n",
    "#np.savetxt(outFile,CGWD,delimiter=',', header=','.join(CGWD.dtype.names), comments=\"\")\n"
   ]
  },
  {
   "cell_type": "code",
   "execution_count": 25,
   "metadata": {
    "collapsed": false
   },
   "outputs": [
    {
     "name": "stderr",
     "output_type": "stream",
     "text": [
      "C:\\Users\\jbarclay\\AppData\\Local\\Continuum\\anaconda3\\envs\\GenMod\\lib\\site-packages\\pandas\\core\\generic.py:2773: SettingWithCopyWarning: \n",
      "A value is trying to be set on a copy of a slice from a DataFrame.\n",
      "Try using .loc[row_indexer,col_indexer] = value instead\n",
      "\n",
      "See the caveats in the documentation: http://pandas.pydata.org/pandas-docs/stable/indexing.html#indexing-view-versus-copy\n",
      "  self[name] = value\n"
     ]
    }
   ],
   "source": [
    "#add the combined well flux to the model_grid\n",
    "#get the well fluxes (layers 3 & 4)\n",
    "pumpFluxes = well.stress_period_data.df[well.stress_period_data.df.k>1]\n",
    "\n",
    "#adjust the node numbering\n",
    "pumpFluxes.node = pumpFluxes.node-1\n",
    "\n",
    "#aggregate by cell\n",
    "pumpFluxes = pumpFluxes.groupby('node').sum()\n",
    "pumpFluxes.reset_index(inplace=True)\n",
    "model_grid = pd.merge(model_grid,pumpFluxes,\"left\",left_on=\"node_num\",right_on=\"node\",sort=False)\n",
    "\n",
    "Well_Flux = model_grid.flux0.values.reshape(dis.nrow,dis.ncol)\n",
    "other_dict['Well_Flux']=Well_Flux"
   ]
  },
  {
   "cell_type": "code",
   "execution_count": 26,
   "metadata": {
    "collapsed": true
   },
   "outputs": [],
   "source": [
    "#open the grid specs file to get the xul and yul values\n",
    "grid_specs_file = os.path.join(geo_ws,\"grid_spec.txt\")\n",
    "\n",
    "o_file = open(grid_specs_file)\n",
    "marker = 0\n",
    "for line in o_file:\n",
    "    if marker==\"ul\":\n",
    "        coords = line[:-1].split()\n",
    "        marker=0\n",
    "    if marker==\"rotation\":\n",
    "        rotation = float(line[:-1].split()[1])\n",
    "        marker=0\n",
    "    if len(line)>3:\n",
    "        if line.split()[0]==\"Upper\" and line.split()[1]==\"left\":\n",
    "            marker=\"ul\"\n",
    "        if line.split()[0]==\"Rotation\":\n",
    "            marker = \"rotation\"\n",
    "o_file.close()\n",
    "\n",
    "xul = float(coords[0])\n",
    "yul = float(coords[1])"
   ]
  },
  {
   "cell_type": "code",
   "execution_count": 93,
   "metadata": {
    "collapsed": false
   },
   "outputs": [
    {
     "name": "stdout",
     "output_type": "stream",
     "text": [
      "wrote CoastalCT.shp\n"
     ]
    }
   ],
   "source": [
    "#set the spatial reference\n",
    "\n",
    "mf.sr = fp.utils.reference.SpatialReference(delr=[L]*dis.ncol, delc=[L]*dis.nrow, lenuni=dis.lenuni, xul = xul, yul = yul, rotation = rotation, units=\"meters\", proj4_str=\"EPSG:5070\")\n",
    "\n",
    "#use the prj file from the domain file\n",
    "prj = md+\"_domain.prj\"\n",
    "prj = os.path.join(geo_ws,prj)\n",
    "#temporarily change the directory\n",
    "thisDir = os.getcwd()\n",
    "os.chdir(model_ws)\n",
    "fp.export.shapefile_utils.model_attributes_to_shapefile(md+\".shp\",mf,array_dict=other_dict, prj=prj)\n",
    "\n",
    "#change the directory back\n",
    "os.chdir(thisDir)"
   ]
  },
  {
   "cell_type": "code",
   "execution_count": 94,
   "metadata": {
    "collapsed": false
   },
   "outputs": [
    {
     "data": {
      "text/plain": [
       "Index(['node_num', 'ibound', 'stream_order', 'gess_poly', 'lake', 'zone',\n",
       "       'ned', 'ned_mean', 'catchment', 'soller_thk', 'bedrock_el', 'nlcd',\n",
       "       'rch_eff_m_Reitz_2013', 'rch_m_Wolock', 'stage', 'segment_len', 'order',\n",
       "       'reachcode', 'reach_intermit', 'reach_len', 'reach_int', 'ghb',\n",
       "       'fresh_head', 'top', 'lay', 'row', 'col', 'obs_type', 'obs_type_num',\n",
       "       'xcr_', 'ycr_', 'xcl_', 'ycl_', 'dist2str', 'q', 'IFACE           '],\n",
       "      dtype='object')"
      ]
     },
     "execution_count": 94,
     "metadata": {},
     "output_type": "execute_result"
    }
   ],
   "source": [
    "model_grid.columns"
   ]
  },
  {
   "cell_type": "code",
   "execution_count": null,
   "metadata": {
    "collapsed": true
   },
   "outputs": [],
   "source": []
  }
 ],
 "metadata": {
  "celltoolbar": "Slideshow",
  "kernelspec": {
   "display_name": "Python 3",
   "language": "python",
   "name": "python3"
  },
  "language_info": {
   "codemirror_mode": {
    "name": "ipython",
    "version": 3
   },
   "file_extension": ".py",
   "mimetype": "text/x-python",
   "name": "python",
   "nbconvert_exporter": "python",
   "pygments_lexer": "ipython3",
   "version": "3.5.3"
  },
  "widgets": {
   "state": {
    "12c3439a081247848b5c455dea4014dd": {
     "views": [
      {
       "cell_index": 6
      }
     ]
    }
   },
   "version": "1.2.0"
  }
 },
 "nbformat": 4,
 "nbformat_minor": 1
}
