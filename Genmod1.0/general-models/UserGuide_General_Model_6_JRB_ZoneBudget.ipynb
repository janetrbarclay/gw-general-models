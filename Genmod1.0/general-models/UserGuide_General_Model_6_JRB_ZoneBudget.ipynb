{
 "cells": [
  {
   "cell_type": "markdown",
   "metadata": {
    "slideshow": {
     "slide_type": "slide"
    }
   },
   "source": [
    "# Create and run a ZONEBUDGET on a general MODFLOW model"
   ]
  },
  {
   "cell_type": "markdown",
   "metadata": {},
   "source": [
    "This notebook implements a grid-search approach to finding hydraulic conductivities that result in heads that seem reasonable."
   ]
  },
  {
   "cell_type": "markdown",
   "metadata": {},
   "source": [
    "Project specific variables are imported in the model_spec.py and gen_mod_dict.py files that must be included in the notebook directory. The first first includes pathnames to data sources that will be different for each user. The second file includes a dictionary of model-specific information such as  cell size, default hydraulic parameter values, and scenario defintion (e.g. include bedrock, number of layers, etc.). There are examples in the repository. Run the following cells up to the \"Run to here\" cell to get a pull-down menu of models in the model_dict. Then, without re-running that cell, run all the remaining cells.  Re-running the following cell would re-set the model to the first one in the list, which you probably don't want. If you use the notebook option to run all cells below, it runs the cell you're in, so if you use that option, move to the next cell (below the pull-down menu of models) first."
   ]
  },
  {
   "cell_type": "code",
   "execution_count": 1,
   "metadata": {
    "collapsed": false,
    "scrolled": true,
    "slideshow": {
     "slide_type": "fragment"
    }
   },
   "outputs": [],
   "source": [
    "__author__ = 'Jeff Starn'\n",
    "%matplotlib notebook\n",
    "from model_specs import *\n",
    "from gen_mod_dict import *\n",
    "\n",
    "import os, sys\n",
    "import shutil\n",
    "import numpy as np\n",
    "import matplotlib.pyplot as plt\n",
    "\n",
    "from flopy.utils.postprocessing import get_water_table\n",
    "\n",
    "\n",
    "import flopy.utils.binaryfile as bf\n",
    "from matplotlib import colors\n",
    "import flopy as fp\n",
    "import pandas as pd\n",
    "# import ipyparallel as ipp\n",
    "# from model_specs import *\n",
    "# from gen_mod_dict import *\n",
    "\n",
    "from ipywidgets import interact, Dropdown\n",
    "from IPython.display import display"
   ]
  },
  {
   "cell_type": "markdown",
   "metadata": {},
   "source": [
    "The next cell is a template for making this notebook into a batch script. To do so, save this notebook as a .py file and edit it as follows. Comment out all the notebook-specific commands (drop-down menu stuff and commands preceded by %). Indent everything below the next cell twice so that it falls within the 'for' loop and the 'try' statement. Move the 'except' statement to the end of the script. Comment out lines in the cell after 'Preliminary stuff' so that the model is selected in the 'for' loop from gen_mod_dict. You can leave the print statement in that cell uncommented. "
   ]
  },
  {
   "cell_type": "code",
   "execution_count": 2,
   "metadata": {
    "collapsed": false
   },
   "outputs": [
    {
     "name": "stdout",
     "output_type": "stream",
     "text": [
      "trying Assabet\n",
      "trying CoastalCT\n"
     ]
    }
   ],
   "source": [
    "for key, value in model_dict.items():   # from \"gen_mod_dict.py\"\n",
    "    md = key\n",
    "    ms = model_dict[md]\n",
    "    print('trying {}'.format(md))\n",
    "    try:\n",
    "        pass\n",
    "    except:\n",
    "        pass"
   ]
  },
  {
   "cell_type": "code",
   "execution_count": 3,
   "metadata": {
    "collapsed": true
   },
   "outputs": [],
   "source": [
    "models = list(model_dict.keys())\n",
    "models.sort()\n",
    "model_area = Dropdown(\n",
    "    options=models,\n",
    "    description='Model:',\n",
    "    background_color='cyan',\n",
    "    border_color='black',\n",
    "    border_width=2)\n",
    "display(model_area)"
   ]
  },
  {
   "cell_type": "markdown",
   "metadata": {},
   "source": [
    "### Run to here to initiate notebook"
   ]
  },
  {
   "cell_type": "markdown",
   "metadata": {},
   "source": [
    "First time using this notebook in this session (before restarting the notebook), run the cells up to this point. Then select your model from the dropdown list above. Move your cursor to this cell and use the toolbar menu Cell --> Run All Below.  After the first time, if you want to run another model, select your model and start running from this cell--you don't need to re-run the cells from the beginning."
   ]
  },
  {
   "cell_type": "markdown",
   "metadata": {},
   "source": [
    "## Preliminary stuff"
   ]
  },
  {
   "cell_type": "code",
   "execution_count": 4,
   "metadata": {
    "collapsed": false,
    "scrolled": true
   },
   "outputs": [
    {
     "name": "stdout",
     "output_type": "stream",
     "text": [
      "The model being processed is CoastalCT\n",
      "\n"
     ]
    }
   ],
   "source": [
    "md = model_area.value\n",
    "ms = model_dict[md]\n",
    "print('The model being processed is {}\\n'.format(md))"
   ]
  },
  {
   "cell_type": "code",
   "execution_count": 5,
   "metadata": {
    "collapsed": false
   },
   "outputs": [],
   "source": [
    "hydro_wt = 1.0\n",
    "calib=False\n",
    "PEST=True\n",
    "label = \"tillBedrock_0_round_params_RIV\"\n",
    "\n",
    "geo_ws = os.path.join(proj_dir, ms['ws'])\n",
    "parent_ws = os.path.join(geo_ws, scenario_dir)\n",
    "if calib:\n",
    "    dir_name = '{}_cal_wt_{:4.2f}'.format(scenario_dir, hydro_wt)\n",
    "else:\n",
    "    dir_name = scenario_dir\n",
    "    \n",
    "if PEST:\n",
    "    dir_name = dir_name + \"_PEST\"\n",
    "    \n",
    "if label!='':\n",
    "    dir_name = dir_name +\"_\"+str(label)\n",
    "    \n",
    "model_ws = os.path.join(geo_ws, dir_name)\n",
    "\n",
    "if not os.path.exists(model_ws):\n",
    "    print('This calibration scenario has not been completed')"
   ]
  },
  {
   "cell_type": "code",
   "execution_count": 6,
   "metadata": {
    "collapsed": false
   },
   "outputs": [],
   "source": [
    "model_file = os.path.join(geo_ws, 'model_grid.csv')\n",
    "model_grid = pd.read_csv(model_file, index_col='node_num', na_values=['nan', hnoflo])\n",
    "\n",
    "NROW = model_grid.row.max() + 1\n",
    "NCOL = model_grid.col.max() + 1\n",
    "num_cells = NROW * NCOL\n",
    "NLAY = num_surf_layers + 1\n",
    "\n",
    "zones = model_grid.zone.values.reshape(NROW, NCOL)\n",
    "zones = zones.astype(int)\n",
    "zone_array = np.repeat(zones[np.newaxis,:,:],NLAY,axis=0)\n",
    "\n",
    "#change 0 to 1000\n",
    "zone_array[zone_array==0]=1000\n"
   ]
  },
  {
   "cell_type": "code",
   "execution_count": 7,
   "metadata": {
    "collapsed": false,
    "scrolled": false
   },
   "outputs": [
    {
     "name": "stderr",
     "output_type": "stream",
     "text": [
      "C:\\Users\\jbarclay\\.conda\\envs\\genmod\\lib\\site-packages\\flopy\\utils\\zonbud.py:1424: RuntimeWarning: invalid value encountered in double_scalars\n",
      "  flux = 100 * in_minus_out / (in_plus_out / 2.)\n"
     ]
    }
   ],
   "source": [
    "cbc_file = os.path.join(model_ws,'{}.cbc'.format(md))\n",
    "zb = fp.utils.zonbud.ZoneBudget(cbc_file,zone_array)"
   ]
  },
  {
   "cell_type": "code",
   "execution_count": 8,
   "metadata": {
    "collapsed": false
   },
   "outputs": [],
   "source": [
    "#extract the zonebudget results and change it to 1 row per zone\n",
    "names = zb.get_record_names()\n",
    "names = names.tolist()\n",
    "nameLst = [x for x in names if \"ZONE\" not in x]\n",
    "zb_df = zb.get_dataframes(names=nameLst)\n",
    "zb_df.reset_index(level=\"totim\", drop=True, inplace=True)\n",
    "zb_df = zb_df.transpose()\n",
    "zb_df['Zone_Nm']=zb_df.index\n",
    "zb_df.reset_index(drop=True,inplace=True)"
   ]
  },
  {
   "cell_type": "code",
   "execution_count": 9,
   "metadata": {
    "collapsed": false
   },
   "outputs": [],
   "source": [
    "#add a zone column and populate it with the zone number\n",
    "zb_df['Zone']=[int(x) for x in (zb_df.Zone_Nm.str[5:])]\n",
    "#change zone 0 back to 0\n",
    "#zb_df['Zone']==1000\n",
    "zb_df.loc[zb_df.Zone==1000,'Zone']=0\n",
    "\n",
    "#calculate some new columns\n",
    "zb_df['TRANSFERS_IN']=zb_df['TOTAL_IN']-(zb_df[['CONSTANT_HEAD_IN', 'DRAINS_IN','HEAD_DEP_BOUNDS_IN', 'RECHARGE_IN',]].sum(axis=1))\n",
    "zb_df['TRANSFERS_OUT']=zb_df['TOTAL_OUT']-(zb_df[['CONSTANT_HEAD_OUT', 'DRAINS_OUT','HEAD_DEP_BOUNDS_OUT', 'RECHARGE_OUT',]].sum(axis=1))\n",
    "zb_df['CGWD_FRAC']=zb_df['HEAD_DEP_BOUNDS_OUT']/zb_df['TOTAL_OUT']\n",
    "zb_df['DRN_FRAC']=zb_df['DRAINS_OUT']/zb_df['TOTAL_OUT']\n",
    "zb_df['TRANS_FRAC']= zb_df['TRANSFERS_OUT']/zb_df['TOTAL_OUT']\n",
    "zb_df['CGWD_DRN_ratio']=zb_df['HEAD_DEP_BOUNDS_OUT']/zb_df['DRAINS_OUT']\n",
    "\n",
    "#change inf values to nan\n",
    "zb_df.loc[np.isinf(zb_df.CGWD_DRN_ratio),'CGWD_DRN_ratio']=np.nan"
   ]
  },
  {
   "cell_type": "code",
   "execution_count": 10,
   "metadata": {
    "collapsed": false
   },
   "outputs": [],
   "source": [
    "f_out = os.path.join(model_ws, 'Zone_Output.csv')\n",
    "zb_df.to_csv(f_out)"
   ]
  },
  {
   "cell_type": "code",
   "execution_count": 11,
   "metadata": {
    "collapsed": false
   },
   "outputs": [
    {
     "data": {
      "text/html": [
       "<div>\n",
       "<table border=\"1\" class=\"dataframe\">\n",
       "  <thead>\n",
       "    <tr style=\"text-align: right;\">\n",
       "      <th>name</th>\n",
       "      <th>CONSTANT_HEAD_IN</th>\n",
       "      <th>CONSTANT_HEAD_OUT</th>\n",
       "      <th>DRAINS_IN</th>\n",
       "      <th>DRAINS_OUT</th>\n",
       "      <th>HEAD_DEP_BOUNDS_IN</th>\n",
       "      <th>HEAD_DEP_BOUNDS_OUT</th>\n",
       "      <th>RECHARGE_IN</th>\n",
       "      <th>RECHARGE_OUT</th>\n",
       "      <th>RIVER_LEAKAGE_IN</th>\n",
       "      <th>RIVER_LEAKAGE_OUT</th>\n",
       "      <th>...</th>\n",
       "      <th>WELLS_IN</th>\n",
       "      <th>WELLS_OUT</th>\n",
       "      <th>Zone_Nm</th>\n",
       "      <th>Zone</th>\n",
       "      <th>TRANSFERS_IN</th>\n",
       "      <th>TRANSFERS_OUT</th>\n",
       "      <th>CGWD_FRAC</th>\n",
       "      <th>DRN_FRAC</th>\n",
       "      <th>TRANS_FRAC</th>\n",
       "      <th>CGWD_DRN_ratio</th>\n",
       "    </tr>\n",
       "  </thead>\n",
       "  <tbody>\n",
       "    <tr>\n",
       "      <th>17</th>\n",
       "      <td>0.0</td>\n",
       "      <td>0.0</td>\n",
       "      <td>0.0</td>\n",
       "      <td>360004.75</td>\n",
       "      <td>542880.8125</td>\n",
       "      <td>609905.0</td>\n",
       "      <td>436006.0</td>\n",
       "      <td>0.0</td>\n",
       "      <td>88516.6875</td>\n",
       "      <td>544.825012</td>\n",
       "      <td>...</td>\n",
       "      <td>0.0</td>\n",
       "      <td>3610.489502</td>\n",
       "      <td>ZONE_18</td>\n",
       "      <td>18</td>\n",
       "      <td>115473.6875</td>\n",
       "      <td>124450.75</td>\n",
       "      <td>0.557316</td>\n",
       "      <td>0.328964</td>\n",
       "      <td>0.11372</td>\n",
       "      <td>1.694158</td>\n",
       "    </tr>\n",
       "  </tbody>\n",
       "</table>\n",
       "<p>1 rows × 22 columns</p>\n",
       "</div>"
      ],
      "text/plain": [
       "name  CONSTANT_HEAD_IN  CONSTANT_HEAD_OUT  DRAINS_IN  DRAINS_OUT  \\\n",
       "17                 0.0                0.0        0.0   360004.75   \n",
       "\n",
       "name  HEAD_DEP_BOUNDS_IN  HEAD_DEP_BOUNDS_OUT  RECHARGE_IN  RECHARGE_OUT  \\\n",
       "17           542880.8125             609905.0     436006.0           0.0   \n",
       "\n",
       "name  RIVER_LEAKAGE_IN  RIVER_LEAKAGE_OUT       ...        WELLS_IN  \\\n",
       "17          88516.6875         544.825012       ...             0.0   \n",
       "\n",
       "name    WELLS_OUT  Zone_Nm  Zone TRANSFERS_IN  TRANSFERS_OUT  CGWD_FRAC  \\\n",
       "17    3610.489502  ZONE_18    18  115473.6875      124450.75   0.557316   \n",
       "\n",
       "name  DRN_FRAC  TRANS_FRAC  CGWD_DRN_ratio  \n",
       "17    0.328964     0.11372        1.694158  \n",
       "\n",
       "[1 rows x 22 columns]"
      ]
     },
     "execution_count": 11,
     "metadata": {},
     "output_type": "execute_result"
    }
   ],
   "source": [
    "zb_df[zb_df.Zone==18]"
   ]
  },
  {
   "cell_type": "code",
   "execution_count": null,
   "metadata": {
    "collapsed": true
   },
   "outputs": [],
   "source": []
  }
 ],
 "metadata": {
  "celltoolbar": "Slideshow",
  "kernelspec": {
   "display_name": "Python 3",
   "language": "python",
   "name": "python3"
  },
  "language_info": {
   "codemirror_mode": {
    "name": "ipython",
    "version": 3
   },
   "file_extension": ".py",
   "mimetype": "text/x-python",
   "name": "python",
   "nbconvert_exporter": "python",
   "pygments_lexer": "ipython3",
   "version": "3.5.3"
  },
  "widgets": {
   "state": {
    "933b2b9c82ed42d89be3e3898a65191b": {
     "views": [
      {
       "cell_index": 6
      }
     ]
    }
   },
   "version": "1.2.0"
  }
 },
 "nbformat": 4,
 "nbformat_minor": 1
}
