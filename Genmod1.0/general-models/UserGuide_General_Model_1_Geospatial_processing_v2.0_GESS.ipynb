{
 "cells": [
  {
   "cell_type": "raw",
   "metadata": {},
   "source": [
    "# Create MODFLOW-grid-based tiff files and model_grid.csv file from GIS data sources"
   ]
  },
  {
   "cell_type": "markdown",
   "metadata": {},
   "source": [
    "Project specific variables are imported in the model_spec.py and gen_mod_dict.py files that must be included in the notebook directory. The first first includes pathnames to data sources that will be different for each user. The second file includes a dictionary of model-specific information such as cell size, default hydraulic parameter values, and scenario defintion (e.g. include bedrock, number of layers, etc.). There are examples in the repository. Run the following cells up to the \"Run to here\" cell to get a pull-down menu of models in the model_dict. Then, without re-running that cell, run all the remaining cells. Re-running the following cell would re-set the model to the first one in the list, which you probably don't want. If you use the notebook option to run all cells below, it runs the cell you're in, so if you use that option, move to the next cell (below the pull-down menu of models) first."
   ]
  },
  {
   "cell_type": "code",
   "execution_count": 1,
   "metadata": {
    "collapsed": false,
    "scrolled": false
   },
   "outputs": [],
   "source": [
    "__author__ = 'Jeff Starn'\n",
    "%matplotlib inline\n",
    "import os\n",
    "import sys\n",
    "import numpy as np\n",
    "import scipy.ndimage as nd\n",
    "import scipy.spatial as ss\n",
    "import matplotlib.pyplot as plt\n",
    "import flopy as fp\n",
    "from flopy.utils.reference import SpatialReference\n",
    "\n",
    "import geopandas as gp\n",
    "import mplleaflet\n",
    "from shapely.geometry import box as shape_box\n",
    "from shapely.geometry import Polygon\n",
    "\n",
    "from copy import deepcopy\n",
    "import gdal\n",
    "gdal.UseExceptions()\n",
    "import ogr\n",
    "import osr\n",
    "import pandas as pd\n",
    "from model_specs import *\n",
    "from gen_mod_dict import *\n",
    "pth = 'MFGrid/mfgrid'\n",
    "sys.path.append(pth)\n",
    "import grid as modgrid\n",
    "\n",
    "from ipywidgets import interact, Dropdown\n",
    "from IPython.display import display"
   ]
  },
  {
   "cell_type": "markdown",
   "metadata": {},
   "source": [
    "The next cell doesn't do anything in the notebook. It is the template\n",
    "for turning the notebook into a batch python script. To run in batch mode, download this notebook as a python script and place the entire body of the script in place of the \"pass\" command after the \"try\" statement. Make sure the indent level is the same as \"pass\".  "
   ]
  },
  {
   "cell_type": "code",
   "execution_count": 2,
   "metadata": {
    "collapsed": false
   },
   "outputs": [
    {
     "name": "stdout",
     "output_type": "stream",
     "text": [
      "trying CoastalCT\n",
      "trying Assabet\n"
      "trying Assabet\n",
     ]
    }
   ],
   "source": [
    "for key, value in model_dict.items():   # from \"gen_mod_dict.py\"\n",
    "    md = key\n",
    "    ms = model_dict[md]\n",
    "    print('trying {}'.format(md))\n",
    "    try:\n",
    "        pass\n",
    "    except:\n",
    "        pass"
   ]
  },
  {
   "cell_type": "code",
   "execution_count": 3,
   "metadata": {
    "collapsed": true
   },
   "outputs": [],
   "source": [
    "models = list(model_dict.keys())\n",
    "models.sort()\n",
    "model_area = Dropdown(\n",
    "    options=models,\n",
    "    description='Model:',\n",
    "    background_color='cyan',\n",
    "    border_color='black',\n",
    "    border_width=2)\n",
    "display(model_area)"
   ]
  },
  {
   "cell_type": "markdown",
   "metadata": {},
   "source": [
    "### Run to here to initiate notebook"
   ]
  },
  {
   "cell_type": "markdown",
   "metadata": {},
   "source": [
    "First time using this notebook in this session (before restarting the notebook), run the cells up to this point. Then select your model from the dropdown list above. Move your cursor to this cell and use the toolbar menu Cell --> Run All Below.  After the first time, if you want to run another model, select your model and start running from this cell--you don't need to re-run the cells from the beginning."
   ]
  },
  {
   "cell_type": "markdown",
   "metadata": {},
   "source": [
    "# Preliminary stuff"
   ]
  },
  {
   "cell_type": "code",
   "execution_count": 4,
   "metadata": {
    "collapsed": false
   },
   "outputs": [
    {
     "name": "stdout",
     "output_type": "stream",
     "text": [
      "The model being processed is CoastalCT\n"
     ]
    }
   ],
   "source": [
    "md = model_area.value\n",
    "ms = model_dict[md]\n",
    "print('The model being processed is {}'.format(md))"
   ]
  },
  {
   "cell_type": "code",
   "execution_count": 5,
   "metadata": {
    "collapsed": false
   },
   "outputs": [
    {
     "data": {
      "text/plain": [
       "'C:/workspace/gw-general-models/Genmod1.0/subprojects/siteGeneral'"
      ]
     },
     "execution_count": 5,
     "metadata": {},
     "output_type": "execute_result"
    }
   ],
   "source": [
    "proj_dir   # Pathnames from \"model_specs.py\""
   ]
  },
  {
   "cell_type": "code",
   "execution_count": 6,
   "metadata": {
    "collapsed": true
   },
   "outputs": [],
   "source": [
    "# ib_filter = ms['ib_filter']\n",
    "\n",
    "model_ws = os.path.join(proj_dir, ms['ws'])   # values from \"gen_mod_dict.py\"\n",
    "nhd_basin_dir = ms['vpu']\n",
    "rpu = ms['rpu']\n",
    "domain_file = os.path.join(model_ws, ms['df'])"
   ]
  },
  {
   "cell_type": "markdown",
   "metadata": {},
   "source": [
    "Make pathnames for the NHD and Glacial Texture map"
   ]
  },
  {
   "cell_type": "code",
   "execution_count": 7,
   "metadata": {
    "collapsed": false
   },
   "outputs": [
    {
     "name": "stdout",
     "output_type": "stream",
     "text": [
      "C:/workspace/gw-general-models/Genmod1.0/input_data/NHDPlusV2Data\\NHDPlusNE_MA/NHDPlus01_02\\NHDSnapshot\\Hydrography\\NHDFlowline.shp\n",
      "C:/workspace/gw-general-models/Genmod1.0/input_data/NHDPlusV2Data\\NHDPlusNE_MA/NHDPlus01_02\\NHDSnapshot\\Hydrography\\NHDWaterbody.shp\n",
      "C:/workspace/gw-general-models/Genmod1.0/input_data/NHDPlusV2Data\\NHDPlusNE_MA/NHDPlus01_02\\NHDPlusAttributes\\PlusFlowlineVAA.dbf\n",
      "C:/workspace/gw-general-models/Genmod1.0/input_data/NHDPlusV2Data\\NHDPlusNE_MA/NHDPlus01_02\\NHDSnapshot\\NHDFCode.dbf\n",
      "C:/workspace/gw-general-models/Genmod1.0/input_data/NHDPlusV2Data\\NHDPlusNE_MA/NHDPlus01_02\\NHDPlusAttributes\\ElevSlope.dbf\n"
     ]
    }
   ],
   "source": [
    "# Pathnames from \"model_specs.py\"\n",
    "flow_file = os.path.join(nhd_dir, nhd_basin_dir, 'NHDSnapshot', 'Hydrography', 'NHDFlowline.shp')\n",
    "lake_file = os.path.join(nhd_dir, nhd_basin_dir, 'NHDSnapshot', 'Hydrography', 'NHDWaterbody.shp')\n",
    "VAA_file = os.path.join(nhd_dir, nhd_basin_dir, 'NHDPlusAttributes', 'PlusFlowlineVAA.dbf')\n",
    "fcode_file = os.path.join(nhd_dir, nhd_basin_dir, 'NHDSnapshot', 'NHDFCode.dbf')\n",
    "slope_file = os.path.join(nhd_dir, nhd_basin_dir, 'NHDPlusAttributes', 'ElevSlope.dbf')\n",
    "\n",
    "#stack_file = os.path.join(geol_dir, 'factor_added_Stack_map.shp')\n",
    "# subsurf_file = os.path.join(geol_dir, 'Subsurface_(Selected_Areas).shp')\n",
    "# surfmat_file = os.path.join(geol_dir, 'Surficial_Materials.shp')\n",
    "# veneer_file = os.path.join(geol_dir, 'Veneer_(Selected_Areas).shp')\n",
    "\n",
    "print(flow_file)\n",
    "print(lake_file)\n",
    "print(VAA_file)\n",
    "print(fcode_file)\n",
    "print(slope_file)"
   ]
  },
  {
   "cell_type": "code",
   "execution_count": 8,
   "metadata": {
    "collapsed": true
   },
   "outputs": [],
   "source": [
    "def process_raster_data(src, method, conversion=1.0):\n",
    "    '''\n",
    "    Takes a raster data source (ESRI grid, GeoTiff, .IMG and many other formats)\n",
    "    and returns a numpy array. Arrangment of pixels is given as input and may \n",
    "    correspond to a MODFLOW grid.\n",
    "    \n",
    "    src : string\n",
    "        complete path to raster data source\n",
    "    method : string\n",
    "        gdal method for interpolation. Choices are:\n",
    "            gdal.GRA_NearestNeighbour \n",
    "                Nearest neighbour (select on one input pixel)\n",
    "            gdal.GRA_Bilinear\n",
    "                Bilinear (2x2 kernel)\n",
    "            gdal.GRA_Cubic\n",
    "                Cubic Convolution Approximation (4x4 kernel)\n",
    "            gdal.GRA_CubicSpline\n",
    "                Cubic B-Spline Approximation (4x4 kernel)\n",
    "            gdal.GRA_Lanczos\n",
    "                Lanczos windowed sinc interpolation (6x6 kernel)\n",
    "            gdal.GRA_Average\n",
    "                Average (computes the average of all non-NODATA contributing pixels)\n",
    "            gdal.GRA_Mode\n",
    "                Mode (selects the value which appears most often of all the sampled points)\n",
    "            gdal.GRA_Max\n",
    "                Max (selects maximum of all non-NODATA contributing pixels)\n",
    "            gdal.GRA_Min\n",
    "                Min (selects minimum of all non-NODATA contributing pixels)\n",
    "            gdal.GRA_Med\n",
    "                Med (selects median of all non-NODATA contributing pixels)\n",
    "            gdal.GRA_Q1\n",
    "                Q1 (selects first quartile of all non-NODATA contributing pixels)\n",
    "            gdal.GRA_Q3\n",
    "                Q3 (selects third quartile of all non-NODATA contributing pixels)\n",
    "\n",
    "    conversion : float\n",
    "        factor to be applied to raw data values to change units\n",
    "\n",
    "    requires global variables (for now):\n",
    "    NCOL, NROW : number of rows and columns\n",
    "    gt : geotransform list\n",
    "    shapeproj : coordinate reference system of NHDPlus (or other desired projection)\n",
    "    hnoflo : to be used as missing data value (from model_spec.py)\n",
    "\n",
    "    returns:\n",
    "    2D array of raster data source projected onto model grid. \n",
    "    Returns a zero array with the correct shape if the source does not exist.\n",
    "    '''\n",
    "    if os.path.exists(src):\n",
    "        rast = gdal.Open(src)\n",
    "\n",
    "        dest = make_grid(NCOL, NROW, gt, shapeproj)\n",
    "        gdal.ReprojectImage(rast, dest, rast.GetProjection(), shapeproj, method)\n",
    "\n",
    "        grid = dest.GetRasterBand(1).ReadAsArray()\n",
    "\n",
    "        grid = grid * conversion\n",
    "\n",
    "        dest = None\n",
    "        rast = None\n",
    "    else:\n",
    "        grid = np.ones((NROW, NCOL)) * hnoflo\n",
    "        print('Data not processed for\\n{}\\n Check that the file exists and path is correct'.format(src))\n",
    "\n",
    "    return grid\n",
    "\n",
    "def process_vector_data(src, attribute):\n",
    "    '''\n",
    "    Takes a vector data source (ESRI shapefile) and returns a numpy array.\n",
    "    Arrangment of pixels is given as input and may correspond to a MODFLOW grid.\n",
    "\n",
    "    src : complete path to vector data source\n",
    "    attribute : field in data table to assign to rasterized pixels\n",
    "    \n",
    "    requires global variables:\n",
    "    NCOL, NROW : number of rows and columns\n",
    "    gt : geotransform list\n",
    "    shapeproj : coordinate reference system of NHDPlus\n",
    "    hnoflo : to be used as missing data value (from model_spec.py)\n",
    "    \n",
    "    returns:\n",
    "    2D array of vector data source projected onto model grid.\n",
    "    Returns a zero array with the correct shape if the source does not exist.\n",
    "    '''\n",
    "    if os.path.exists(src):\n",
    "\n",
    "        datasource = ogr.Open(src)\n",
    "        layer = datasource.GetLayer()\n",
    "\n",
    "        src = make_grid(NCOL, NROW, gt, shapeproj, 0)\n",
    "        args = 'ATTRIBUTE={}'.format(attribute)\n",
    "        gdal.RasterizeLayer(src, [1], layer, options = [args])\n",
    "\n",
    "        grid = src.GetRasterBand(1).ReadAsArray()\n",
    "\n",
    "        src = None\n",
    "        dst = None        \n",
    "    else:\n",
    "        grid = np.ones((NROW, NCOL)) * hnoflo\n",
    "        print('Data not processed for\\n{}\\n Check that the file exists and path is correct'.format(src))\n",
    "\n",
    "    return grid\n",
    "\n",
    "def make_raster(dst_file, data, NCOL, NROW, gt, proj, nodata):\n",
    "    '''\n",
    "    Writes numpy array to a GeoTiff file.\n",
    "    \n",
    "    dst_file : name of file to write\n",
    "    data : 2D numpy array\n",
    "    NCOL, NROW : number of rows and columns. These may coincide with a MODFLOW grid.\n",
    "    gt : 6-element geotransform list [C, A, B, F, E, D]. Gives the coordinates of one pixel\n",
    "        (the upper left pixel). If there is no rotation, B=D=0. If cells are square, A=-E.   \n",
    "        Letter designations come from the original documentation.\n",
    "        \n",
    "        C = x coordinate in map units of the upper left corner of the upper left pixel\n",
    "        A = distance from C along x axis to upper right pixel corner of the upper left pixel\n",
    "        B = distance from C along x axis to lower left pixel corner of the upper left pixel,\n",
    "        F = y coordinate in map units of the upper left corner of the upper left pixel\n",
    "        E = distance from C along y axis to lower left pixel corner of the upper left pixel\n",
    "        D = distance from C along y axis to upper right pixel corner of the upper left pixel\n",
    "        \n",
    "    proj : projection of the GeoTiff\n",
    "    nodata : value to use as missing data in the GeoTiff\n",
    "    '''\n",
    "    import gdal\n",
    "    driver = gdal.GetDriverByName(\"GTiff\")\n",
    "    dst = driver.Create(dst_file, NCOL, NROW, 1, gdal.GDT_Float32)\n",
    "    dst.SetGeoTransform(gt)\n",
    "    dst.SetProjection(proj)\n",
    "    band = dst.GetRasterBand(1)\n",
    "    band.SetNoDataValue(nodata)\n",
    "    band.WriteArray(data)\n",
    "    dst = None\n",
    "\n",
    "def make_grid(NCOL, NROW, gt, proj, nodata=hnoflo):\n",
    "    '''\n",
    "    Creates a blank raster image in memory.\n",
    "        \n",
    "    NCOL, NROW : number of rows and columns. These may coincide with a MODFLOW grid.\n",
    "    gt : 6-element geotransform list [C, A, B, F, E, D]. Gives the coordinates of one pixel\n",
    "        (the upper left pixel). If there is no rotation, B=D=0. If cells are square, A=-E.   \n",
    "        Letter designations come from the original documentation.\n",
    "        \n",
    "        C = x coordinate in map units of the upper left corner of the upper left pixel\n",
    "        A = distance from C along x axis to upper right pixel corner of the upper left pixel\n",
    "        B = distance from C along x axis to lower left pixel corner of the upper left pixel,\n",
    "        F = y coordinate in map units of the upper left corner of the upper left pixel\n",
    "        E = distance from C along y axis to lower left pixel corner of the upper left pixel\n",
    "        D = distance from C along y axis to upper right pixel corner of the upper left pixel\n",
    "        \n",
    "    proj : projection of the GeoTiff\n",
    "    nodata : value to use as missing data in the GeoTiff\n",
    "    '''\n",
    "    import gdal\n",
    "    mem_drv = gdal.GetDriverByName('MEM')\n",
    "    grid_ras = mem_drv.Create('', NCOL, NROW, 1, gdal.GDT_Float32)\n",
    "    grid_ras.SetGeoTransform(gt)\n",
    "    grid_ras.SetProjection(shapeproj)\n",
    "    band = grid_ras.GetRasterBand(1)\n",
    "    band.SetNoDataValue(nodata)\n",
    "    array = np.zeros((NROW,NCOL))\n",
    "    band.WriteArray(array)\n",
    "    return grid_ras\n",
    "\n",
    "def process_mohp_data(tif_files):\n",
    "    '''\n",
    "    Loops a list of MOHP tif files. The rest of the algorithm is similar to the function\n",
    "    \"process_raster_data\" except that a transformation from the ESRI WKT format to a generic\n",
    "    format is needed. When MOHP data source is finalized, this function can be modified\n",
    "    to work with the final format.\n",
    "    \n",
    "    src : complete path to raster data source\n",
    "    method : gdal method for interpolation\n",
    "    conversion : factor to be applied to raw data values to change units\n",
    "\n",
    "    requires global variables (for now):\n",
    "    NCOL, NROW : number of rows and columns\n",
    "    gt : geotransform list\n",
    "    shapeproj : coordinate reference system of NHDPlus (or other desired projection)\n",
    "    hnoflo : to be used as missing data value (from model_spec.py)\n",
    "\n",
    "    returns:\n",
    "    2D array of raster data source projected onto model grid. Each column contains\n",
    "    a different stream order MOHP. Each row corresponds to a model cell. \n",
    "    Number of rows is NCOL x NCOL. Number of columns is number of stream orders present.\n",
    "    '''\n",
    "    import gdal\n",
    "    gdal.UseExceptions()\n",
    "    import ogr\n",
    "    import osr\n",
    "    \n",
    "    arr = np.zeros((NCOL * NROW, len(tif_files)))\n",
    "    if tif_files != []:\n",
    "        for col, src in enumerate(tif_files):\n",
    "            hp = gdal.Open(src)\n",
    "\n",
    "            dest = make_grid(NCOL, NROW, gt, shapeproj)\n",
    "\n",
    "            srs = osr.SpatialReference()\n",
    "            srs.ImportFromWkt(hp.GetProjection())\n",
    "            srs.MorphFromESRI()\n",
    "            hp_prj = srs.ExportToWkt()\n",
    "            hp.SetProjection(hp_prj)\n",
    "\n",
    "            gdal.ReprojectImage(hp, dest, hp.GetProjection(), shapeproj, gdal.GRA_NearestNeighbour)\n",
    "\n",
    "            hp_grd = dest.GetRasterBand(1).ReadAsArray()\n",
    "            hp_grd = hp_grd / 10000.\n",
    "\n",
    "            dst = None\n",
    "            hp = None\n",
    "            \n",
    "            arr[:, col] = hp_grd.ravel()\n",
    "    return arr\n",
    "\n",
    "def make_clockwise(coords):\n",
    "    '''\n",
    "    Function to determine direction of vertices of a polygon (clockwise or CCW).\n",
    "    Probably not needed, but here just in case. \n",
    "    \n",
    "    coords : array with dim (n, 2)\n",
    "            n is number of vertices in the polygon. The last vertex is the same \n",
    "            as the first to close the polygon. The first column is x and the second is y.\n",
    "    '''\n",
    "    # if the points are counterclockwise, reverse them\n",
    "    x1 = coords[:-1, 0]\n",
    "    x2 = coords[1:, 0]\n",
    "    y1 = coords[:-1, 1]\n",
    "    y2 = coords[1:, 1]\n",
    "    ccw = np.sum((x2 - x1) * (y2 + y1)) < 0\n",
    "    if ccw:\n",
    "        coords = np.flipud(coords)\n",
    "        print('yup, coordinates are ccw')\n",
    "        print(\"let's change them to CW\")\n",
    "    return coords\n",
    "\n",
    "# test data for make_clockwise\n",
    "\n",
    "# print('clockwise')\n",
    "# x = np.array([1, 1, 2, 2, 1])\n",
    "# y = np.array([1, 2, 2, 1, 1])\n",
    "# coords = np.array(zip(x, y))\n",
    "# c = make_clockwise(coords)\n",
    "# print( c)\n",
    "# print('\\n')\n",
    "# print('CCW')\n",
    "# x = np.array([1, 2, 2, 1, 1])\n",
    "# y = np.array([1, 1, 2, 2, 1])\n",
    "# coords = np.array(zip(x, y))\n",
    "# c = make_clockwise(coords)\n",
    "# print( c)\n",
    "\n",
    "import pysal as ps\n",
    "import numpy as np\n",
    "import pandas as pd\n",
    "import os\n",
    "import ast\n",
    "from shutil import copyfile\n",
    "\n",
    "def dbf2df(dbf_path, index=None, cols=False, incl_index=False):\n",
    "    '''\n",
    "    Read a dbf file as a pandas.DataFrame, optionally selecting the index\n",
    "    variable and which columns are to be loaded.\n",
    "\n",
    "    __author__  = \"Dani Arribas-Bel <darribas@asu.edu> \"\n",
    "    ...\n",
    "\n",
    "    Arguments\n",
    "    ---------\n",
    "    dbf_path    : str\n",
    "                  Path to the DBF file to be read\n",
    "    index       : str\n",
    "                  Name of the column to be used as the index of the DataFrame\n",
    "    cols        : list\n",
    "                  List with the names of the columns to be read into the\n",
    "                  DataFrame. Defaults to False, which reads the whole dbf\n",
    "    incl_index  : Boolean\n",
    "                  If True index is included in the DataFrame as a\n",
    "                  column too. Defaults to False\n",
    "\n",
    "    Returns\n",
    "    -------\n",
    "    df          : DataFrame\n",
    "                  pandas.DataFrame object created\n",
    "    '''\n",
    "    db = ps.open(dbf_path)\n",
    "    if cols:\n",
    "        if incl_index:\n",
    "            cols.append(index)\n",
    "        vars_to_read = cols\n",
    "    else:\n",
    "        vars_to_read = db.header\n",
    "    data = dict([(var, db.by_col(var)) for var in vars_to_read])\n",
    "    if index:\n",
    "        index = db.by_col(index)\n",
    "        db.close()\n",
    "        return pd.DataFrame(data, index=index)\n",
    "    else:\n",
    "        db.close()\n",
    "        return pd.DataFrame(data)"
   ]
  },
  {
   "cell_type": "markdown",
   "metadata": {},
   "source": [
    "## Calculate model grid coordinates"
   ]
  },
  {
   "cell_type": "markdown",
   "metadata": {},
   "source": [
    "In general, the steps for creating and populating the MODFLOW grid in GIS space is as follows:\n",
    "\n",
    "* Read the domain shapefile and store its projection. The shapefile containing outline of model domain must have an attribute called \"ibound.\"\n",
    "* Make the convex hull of the model domain and extract the coordinates of the hull.\n",
    "* Iterate around the sides of the convex hull, rotating it so that each iteration the next side is parallel to the x axis.\n",
    "* Make a bounding box around the rotated hull and store its area.\n",
    "* The angle of rotation that corresponds to the bounding box with the smallest area is the rotation that produces the smallest number of inactive cells.\n",
    "* Make a geotransform list so that any arbitrary data can be projected on to the model grid in GIS space. "
   ]
  },
  {
   "cell_type": "code",
   "execution_count": 9,
   "metadata": {
    "collapsed": false
   },
   "outputs": [],
   "source": [
    "domain_diss = gp.read_file(domain_file)\n",
    "prj = domain_diss.crs"
   ]
  },
  {
   "cell_type": "markdown",
   "metadata": {},
   "source": [
    "Open the NED grid from NHDPlus to get the projection. NHDPlus lines are in geographic coordinates rather than a projected coordinate reference system. Extract the projection as WKT, convert it to Proj.4 format, then parse that into a Python dictionary."
   ]
  },
  {
   "cell_type": "code",
   "execution_count": 10,
   "metadata": {
    "collapsed": false
   },
   "outputs": [],
   "source": [
    "src = os.path.join(nhd_dir, nhd_basin_dir, 'NEDSnapshot', rpu, 'elev_cm')\n",
    "ned = gdal.Open(src)\n",
    "shapeproj = ned.GetProjection()\n",
    "srs = osr.SpatialReference()\n",
    "srs.ImportFromWkt(shapeproj)\n",
    "prj4 = (srs.ExportToProj4()).split('+')\n",
    "prj4 = dict([item.split('=') for item in prj4 if len(item.split('=')) == 2])"
   ]
  },
  {
   "cell_type": "code",
   "execution_count": 11,
   "metadata": {
    "collapsed": true
   },
   "outputs": [],
   "source": [
    "domain_diss.to_crs(prj4, inplace=True)"
   ]
  },
  {
   "cell_type": "code",
   "execution_count": 12,
   "metadata": {
    "collapsed": true
   },
   "outputs": [],
   "source": [
    "domain_diss.ibound = 1"
   ]
  },
  {
   "cell_type": "code",
   "execution_count": 13,
   "metadata": {
    "collapsed": true
   },
   "outputs": [],
   "source": [
    "# domain_diss.plot()\n",
    "domain_diss.to_file(os.path.join(model_ws, 'domain_outline.shp'))"
   ]
  },
  {
   "cell_type": "markdown",
   "metadata": {},
   "source": [
    "Uncomment the following lines to generate a leaflet map of the model domain."
   ]
  },
  {
   "cell_type": "code",
   "execution_count": 14,
   "metadata": {
    "collapsed": true
   },
   "outputs": [],
   "source": [
    "#ax = domain_diss.plot()\n",
    "#mplleaflet.display(fig=ax.figure, crs=prj)"
   ]
  },
  {
   "cell_type": "markdown",
   "metadata": {},
   "source": [
    "Find convex hull and extract the coordinates of its vertices. (Add the function to change to clockwise here if needed.)"
   ]
  },
  {
   "cell_type": "code",
   "execution_count": 15,
   "metadata": {
    "collapsed": true
   },
   "outputs": [],
   "source": [
    "hull = domain_diss.convex_hull\n",
    "coords2 = np.array(hull[0].exterior.coords[:])"
   ]
  },
  {
   "cell_type": "markdown",
   "metadata": {},
   "source": [
    "Calculate the domain (dc) and angle (da) of each side."
   ]
  },
  {
   "cell_type": "code",
   "execution_count": 16,
   "metadata": {
    "collapsed": true
   },
   "outputs": [],
   "source": [
    "dc2 = np.diff(coords2, axis=0)\n",
    "da2 = np.arctan2(dc2[:,1], dc2[:,0])"
   ]
  },
  {
   "cell_type": "markdown",
   "metadata": {},
   "source": [
    "Rotate to each side of the convex hull and calculate the area of each bounding box."
   ]
  },
  {
   "cell_type": "code",
   "execution_count": 17,
   "metadata": {
    "collapsed": true
   },
   "outputs": [],
   "source": [
    "num_vert = da2.shape[0]\n",
    "area2 = np.zeros((num_vert))\n",
    "for i in range(num_vert):\n",
    "    hull_rot = hull.rotate(-da2[i], origin=tuple(coords2[i, :]), use_radians=True)\n",
    "    minx, miny, maxx, maxy = hull_rot.bounds.iloc[0]\n",
    "    area2[i] = (maxx - minx) * (maxy - miny)"
   ]
  },
  {
   "cell_type": "markdown",
   "metadata": {},
   "source": [
    "Construct a rectangular polygon and geoseries corresponding to the minimum area bounding box."
   ]
  },
  {
   "cell_type": "code",
   "execution_count": 18,
   "metadata": {
    "collapsed": true
   },
   "outputs": [],
   "source": [
    "ii2 = np.argmin(area2)\n",
    "hull_rot = hull.rotate(-da2[ii2], origin=tuple(coords2[ii2, :]), use_radians=True)\n",
    "# minx, miny, maxx, maxy = hull_rot.bounds.iloc[0]\n",
    "# temp_poly = shape_box(minx, miny, maxx, maxy, ccw=False)\n",
    "# temp_gdf = gp.GeoSeries(temp_poly)\n",
    "temp_gdf = hull_rot.envelope"
   ]
  },
  {
   "cell_type": "markdown",
   "metadata": {},
   "source": [
    "Rotate the bounding box back to its original coordinate framework and set its projection."
   ]
  },
  {
   "cell_type": "code",
   "execution_count": 19,
   "metadata": {
    "collapsed": true
   },
   "outputs": [],
   "source": [
    "box = temp_gdf.rotate(da2[ii2], origin=tuple(coords2[ii2, :]), use_radians=True)\n",
    "box.crs = prj4"
   ]
  },
  {
   "cell_type": "markdown",
   "metadata": {},
   "source": [
    "Save the shapefile."
   ]
  },
  {
   "cell_type": "code",
   "execution_count": 20,
   "metadata": {
    "collapsed": true
   },
   "outputs": [],
   "source": [
    "box.to_file(os.path.join(model_ws, 'clip_box.shp'))"
   ]
  },
  {
   "cell_type": "markdown",
   "metadata": {},
   "source": [
    "Extract the geometry for use later in clipping NHD flowlines."
   ]
  },
  {
   "cell_type": "code",
   "execution_count": 21,
   "metadata": {
    "collapsed": true
   },
   "outputs": [],
   "source": [
    "clip = box.geometry[0]"
   ]
  },
  {
   "cell_type": "markdown",
   "metadata": {},
   "source": [
    "Find a visualing pleasing origin and use it as the model origin. \n",
    "\n",
    "Extract the coordinates of the box; each line is an (x, y) pair."
   ]
  },
  {
   "cell_type": "code",
   "execution_count": 22,
   "metadata": {
    "collapsed": false
   },
   "outputs": [
    {
     "name": "stdout",
     "output_type": "stream",
     "text": [
      "yup, coordinates are ccw\n",
      "let's change them to CW\n"
     ]
    }
   ],
   "source": [
    "pts = np.array(box[0].exterior.coords[:])\n",
    "pts = make_clockwise(pts)"
   ]
  },
  {
   "cell_type": "markdown",
   "metadata": {},
   "source": [
    "The first and last vertices of a polygon are identical, so strip off the last vertex."
   ]
  },
  {
   "cell_type": "code",
   "execution_count": 23,
   "metadata": {
    "collapsed": true
   },
   "outputs": [],
   "source": [
    "# pts = pts[:-1, :]"
   ]
  },
  {
   "cell_type": "markdown",
   "metadata": {},
   "source": [
    "Find the line containing the coordinates of the apex (ymax) of the hull."
   ]
  },
  {
   "cell_type": "code",
   "execution_count": 24,
   "metadata": {
    "collapsed": true
   },
   "outputs": [],
   "source": [
    "ymax = np.argmax(pts[:, 1])"
   ]
  },
  {
   "cell_type": "markdown",
   "metadata": {},
   "source": [
    "Wrap (roll) the lines of the array around so that the apex is at the top of the array (first line)."
   ]
  },
  {
   "cell_type": "code",
   "execution_count": 25,
   "metadata": {
    "collapsed": true
   },
   "outputs": [],
   "source": [
    "# pts = np.roll(pts, -ymax, axis=0)"
   ]
  },
  {
   "cell_type": "markdown",
   "metadata": {},
   "source": [
    "Add the first point (ymax) back to the last position to complete the polygon."
   ]
  },
  {
   "cell_type": "code",
   "execution_count": 26,
   "metadata": {
    "collapsed": true
   },
   "outputs": [],
   "source": [
    "# pts = np.vstack((pts, pts[0, :]))"
   ]
  },
  {
   "cell_type": "markdown",
   "metadata": {},
   "source": [
    "Calculate the domain (dc) and angle (da) of each side."
   ]
  },
  {
   "cell_type": "code",
   "execution_count": 27,
   "metadata": {
    "collapsed": true
   },
   "outputs": [],
   "source": [
    "dc = np.diff(pts, axis=0)\n",
    "da = np.arctan2(dc[:, 1], dc[:, 0])"
   ]
  },
  {
   "cell_type": "markdown",
   "metadata": {},
   "source": [
    "Determine shape of bounding box to determine row and column directions."
   ]
  },
  {
   "cell_type": "code",
   "execution_count": 28,
   "metadata": {
    "collapsed": true
   },
   "outputs": [],
   "source": [
    "# dx, dy = np.amax(dc, axis=0)\n",
    "# is_tall = dx < dy"
   ]
  },
  {
   "cell_type": "markdown",
   "metadata": {},
   "source": [
    "Calculate the geotransform list to be used for creating raster images later. See the function \"make_raster\" for an explanation. Theta is not used to make rasters; it's used to rotate NHD flowlines.\n",
    "\n",
    "The orientation of the top side of the model grid is determined by the angle from (x, ymax) to the next vertex to its right in a clockwise direction:\n",
    "\n",
    "* If the angle is < -45 degrees (-pi/4), the top side is to the left of (x, ymax) and the origin is (x, ymax - 1)\n",
    "    \n",
    "* If the angle is >= -45 degrees (-pi/4), the top side is to the right of (x, ymax) and the origin is (x, ymax)"
   ]
  },
  {
   "cell_type": "code",
   "execution_count": 29,
   "metadata": {
    "collapsed": true
   },
   "outputs": [],
   "source": [
    "side_lengths = np.hypot(dc[:, 0], dc[:, 1])\n",
    "\n",
    "if da[ymax] < (np.pi / -4):\n",
    "    or_cor = ymax - 1\n",
    "else:\n",
    "    or_cor = ymax\n",
    "\n",
    "theta = da[or_cor]\n",
    "origin = pts[or_cor, :]\n",
    "x_len = side_lengths[or_cor]\n",
    "y_len = side_lengths[or_cor - 1]\n",
    "\n",
    "if md==\"CoastalCT_CT\" or md==\"CoastalCT_initial\" or md==\"CoastalCT\":\n",
    "    origin = pts[or_cor-1,:]"
   ]
  },
  {
   "cell_type": "markdown",
   "metadata": {},
   "source": [
    "Calculate the number of rows and columns for the L given in model_spec.py."
   ]
  },
  {
   "cell_type": "code",
   "execution_count": 30,
   "metadata": {
    "collapsed": true
   },
   "outputs": [],
   "source": [
    "NROW = np.int(np.ceil(y_len / L))\n",
    "NCOL = np.int(np.ceil(x_len / L))"
   ]
  },
  {
   "cell_type": "code",
   "execution_count": 31,
   "metadata": {
    "collapsed": false
   },
   "outputs": [
    {
     "name": "stdout",
     "output_type": "stream",
     "text": [
      "336 746\n"
     ]
    }
   ],
   "source": [
    "print (NROW, NCOL)"
   ]
  },
  {
   "cell_type": "markdown",
   "metadata": {},
   "source": [
    "Replace the number of rows and columns with those from an existing model if one is present."
   ]
  },
  {
   "cell_type": "code",
   "execution_count": 32,
   "metadata": {
    "collapsed": true
   },
   "outputs": [],
   "source": [
    "keys = ms.keys()\n",
    "if 'NROW' in keys:\n",
    "    NROW = ms['NROW']\n",
    "    NCOL = ms['NCOL']\n",
    "    LX = x_len / NCOL\n",
    "    LY = y_len / NROW\n",
    "else:\n",
    "    LX = L\n",
    "    LY = L"
   ]
  },
  {
   "cell_type": "code",
   "execution_count": 33,
   "metadata": {
    "collapsed": false
   },
   "outputs": [],
   "source": [
    "A = LX * np.cos(theta)\n",
    "B = LY * np.sin(theta)\n",
    "D = LX * np.sin(theta)\n",
    "E = LY * -np.cos(theta)\n",
    "\n",
    "gt = [origin[0], A, B, origin[1], D, E]"
   ]
  },
  {
   "cell_type": "markdown",
   "metadata": {},
   "source": [
    "Write a file of information that summarizes all of the above stuff."
   ]
  },
  {
   "cell_type": "code",
   "execution_count": 34,
   "metadata": {
    "collapsed": true
   },
   "outputs": [],
   "source": [
    "grid_spec_file = os.path.join(model_ws, 'grid_spec.txt')\n",
    "with open(grid_spec_file, 'w') as f:\n",
    "    line = 'Source locations\\n'\n",
    "    f.write(line)\n",
    "    for key, val in ms.items():\n",
    "        f.write('  {} : {}\\n'.format(key, val))\n",
    "    line = '\\nUpper left corner x and y projected coordinates\\n'\n",
    "    f.write(line)\n",
    "    line = '{} {}\\n\\n'.format(origin[0], origin[1])\n",
    "    f.write(line)\n",
    "    line = 'Rotation about upper left corner in radians and degrees from positive x axis\\n'\n",
    "    f.write(line)\n",
    "    line = '{} {}\\n\\n'.format(theta, theta * 180 / np.pi)\n",
    "    f.write(line)\n",
    "    line = 'Grid corner projected coordinates\\n'\n",
    "    f.write(line)\n",
    "    for row in pts:\n",
    "        f.write(' {:0.2f}  {:0.2f} '.format(*row))\n",
    "    line = '\\nCoordinate reference system\\n'\n",
    "    f.write(line)\n",
    "    for key, val in prj4.items():\n",
    "        f.write('    {} : {}\\n'.format(key, val))\n",
    "    line = '\\n\\nGeotransformation block\\n'\n",
    "    f.write(line)\n",
    "    line = '{} {} {} {} {} {}'.format(*gt)\n",
    "    f.write(line)\n",
    "    line = '\\n\\nGrid block\\n'\n",
    "    f.write(line)\n",
    "    line = 'NROW {} NCOL {}'.format(NROW, NCOL)\n",
    "    f.write(line)\n",
    "    line = '\\n\\nCell Size\\n'\n",
    "    f.write(line)\n",
    "    line = '{} '.format(L)\n",
    "    f.write(line)"
   ]
  },
  {
   "cell_type": "markdown",
   "metadata": {},
   "source": [
    "## Process river flowlines and lake polygons"
   ]
  },
  {
   "cell_type": "markdown",
   "metadata": {},
   "source": [
    "Read HD flowlines and associated tables."
   ]
  },
  {
   "cell_type": "code",
   "execution_count": 36,
   "metadata": {
    "collapsed": true
   },
   "outputs": [],
   "source": [
    "flowlines = gp.read_file(flow_file)\n",
    "VAA_tab = dbf2df(VAA_file, cols=['ComID', 'StreamOrde','ArbolateSu'])\n",
    "slope_tab = dbf2df(slope_file, cols=['COMID', 'MAXELEVSMO', 'MINELEVSMO'])\n",
    "fcode_tab = dbf2df(fcode_file, cols=['FCode', 'Hydrograph'])"
   ]
  },
  {
   "cell_type": "markdown",
   "metadata": {},
   "source": [
    "Extract projection information, which for NHDPlus flowlines will be geographic (lat long) coordinates. Project grid box outline to the NHD (geographic) coordinates. Clip the NHD to the box and project it back to the projected coordinate system (probably Albers). Note: the crs from NHD is given below as epsg code 4269.  This is the same as a plain NAD83 crs."
   ]
  },
  {
   "cell_type": "code",
   "execution_count": 36,
   "metadata": {
    "collapsed": true
   },
   "outputs": [],
   "source": [
    "latlong_prj = flowlines.crs\n",
    "latlong_box = box.to_crs(crs=latlong_prj)\n",
    "latlong_clip = latlong_box.geometry[0]\n",
    "lines = flowlines['geometry'].intersection(latlong_clip)\n",
    "lines = lines.to_crs(crs=prj4)"
   ]
  },
  {
   "cell_type": "markdown",
   "metadata": {},
   "source": [
    "Add fields from the NHD back to the clipped lines."
   ]
  },
  {
   "cell_type": "code",
   "execution_count": 37,
   "metadata": {
    "collapsed": true
   },
   "outputs": [],
   "source": [
    "lines = pd.DataFrame(lines, columns=['geometry'])\n",
    "lines['COMID'] = flowlines.COMID\n",
    "lines['FCODE'] = flowlines.FCODE\n",
    "lines['REACHCODE'] = flowlines.REACHCODE\n",
    "lines['LENGTHKM'] = flowlines.LENGTHKM\n",
    "f = lambda x: x[:8]\n",
    "lines['HUC_8'] = lines.REACHCODE.map(f)"
   ]
  },
  {
   "cell_type": "markdown",
   "metadata": {},
   "source": [
    "Merge selected fields from the associated tables into the clipped lines."
   ]
  },
  {
   "cell_type": "code",
   "execution_count": 38,
   "metadata": {
    "collapsed": true
   },
   "outputs": [],
   "source": [
    "lines = lines.merge(VAA_tab, how='inner', left_on='COMID', right_on='ComID')\n",
    "lines = lines.merge(slope_tab, how='inner', left_on='COMID', right_on='COMID')\n",
    "lines = lines.merge(fcode_tab, how='inner', left_on='FCODE', right_on='FCode')\n",
    "\n",
    "lines['maxft'] = lines.MAXELEVSMO / 100.\n",
    "lines['minft'] = lines.MINELEVSMO / 100.\n",
    "lines['StreamOrde'] = lines.StreamOrde\n",
    "lines['ArbolateSu'] = lines.ArbolateSu\n",
    "\n",
    "lines.drop(['FCode', 'ComID'], axis=1, inplace=True)\n",
    "# lines = lines[lines.Hydrograph != 'Intermittent']\n",
    "lines['intermit'] = lines.Hydrograph == 'Intermittent'"
   ]
  },
  {
   "cell_type": "markdown",
   "metadata": {},
   "source": [
    "Make a GeoDataFrame from the lines and get rid of lines outside the box (model) area. "
   ]
  },
  {
   "cell_type": "code",
   "execution_count": 39,
   "metadata": {
    "collapsed": true
   },
   "outputs": [],
   "source": [
    "lines = gp.GeoDataFrame(lines, crs=prj4, geometry=lines.geometry)\n",
    "lines = lines[-lines.geometry.isnull()]"
   ]
  },
  {
   "cell_type": "markdown",
   "metadata": {},
   "source": [
    "If a HUC-8 is provided in domain_diss, do the above operations again, this time for the basin outline rather than the model box.  It's faster to perform the operations in two steps like this. "
   ]
  },
  {
   "cell_type": "code",
   "execution_count": 40,
   "metadata": {
    "collapsed": true
   },
   "outputs": [],
   "source": [
    "prj_clip = domain_diss.geometry[0]\n",
    "lines_clip = lines['geometry'].intersection(prj_clip)\n",
    "\n",
    "lines_clip = gp.GeoDataFrame(lines_clip, crs=prj4, geometry=lines_clip.geometry)\n",
    "lines_clip['COMID'] = lines.COMID\n",
    "lines_clip['FCODE'] = lines.FCODE\n",
    "lines_clip['REACHCODE'] = lines.REACHCODE\n",
    "lines_clip['HUC_8'] = lines.HUC_8\n",
    "\n",
    "lines_clip['maxft'] = lines.maxft\n",
    "lines_clip['minft'] = lines.minft\n",
    "lines_clip['StreamOrde'] = lines.StreamOrde\n",
    "lines_clip['ArbolateSu'] = lines.ArbolateSu\n",
    "lines_clip['LENGTHKM'] = lines.LENGTHKM\n",
    "lines_clip['intermit'] = np.int32(lines.intermit)\n",
    "\n",
    "lines_clip.drop(0, axis=1, inplace=True)\n",
    "lines_clip = lines_clip[-lines_clip.geometry.isnull()]"
   ]
  },
  {
   "cell_type": "markdown",
   "metadata": {},
   "source": [
    "Save the clipped flowlines to a shapefile"
   ]
  },
  {
   "cell_type": "code",
   "execution_count": 41,
   "metadata": {
    "collapsed": true
   },
   "outputs": [],
   "source": [
    "lines_clip.to_file(os.path.join(model_ws, 'NHD_clip.shp'))"
   ]
  },
  {
   "cell_type": "markdown",
   "metadata": {},
   "source": [
    "Calculate values (offset and rotation) to transform flowlines to model grid reference system"
   ]
  },
  {
   "cell_type": "code",
   "execution_count": 42,
   "metadata": {
    "collapsed": true
   },
   "outputs": [],
   "source": [
    "xoff = origin[0]\n",
    "y_len_grid = NROW * LY\n",
    "yoff = origin[1] - y_len_grid"
   ]
  },
  {
   "cell_type": "markdown",
   "metadata": {},
   "source": [
    "Rotate and translate flowlines to model grid reference system"
   ]
  },
  {
   "cell_type": "code",
   "execution_count": 43,
   "metadata": {
    "collapsed": true
   },
   "outputs": [],
   "source": [
    "lines_rot = lines_clip.rotate(-theta, origin=tuple(origin), use_radians=True).translate(xoff=-xoff, yoff=-yoff)"
   ]
  },
  {
   "cell_type": "markdown",
   "metadata": {},
   "source": [
    "Create drain/river package input dictionary of lists (for FloPy)"
   ]
  },
  {
   "cell_type": "markdown",
   "metadata": {},
   "source": [
    "* First create a ModflowGrid object.  This class is available in FloPy and makes doing the intersections of flowlines with model grid easier."
   ]
  },
  {
   "cell_type": "code",
   "execution_count": 44,
   "metadata": {
    "collapsed": true,
    "scrolled": true
   },
   "outputs": [],
   "source": [
    "NLAY = 1\n",
    "mfg = modgrid.ModflowGrid(NLAY, NROW, NCOL, LX, LY, 0)\n",
    "\n",
    "NPER =  1 \n",
    "drn_dict = {}\n",
    "perlist = []\n",
    "lineset = range(lines.shape[0])\n",
    "riv_loc = np.zeros((NROW,NCOL), np.int)\n",
    "riv_stg = np.zeros((NROW,NCOL), np.float)\n",
    "order_dict = {}\n",
    "per_order_list = []"
   ]
  },
  {
   "cell_type": "markdown",
   "metadata": {},
   "source": [
    "* Loop through each stress period. Each set of drains/rivers is a value in a dictionary whose key is the stress period.\n",
    "* Two parallel lists are used: lines_clip (in geographic space) and lines.rot (in model space)\n",
    " * intersections are done in model space so that lengths of flowline in model cell can be calculated\n",
    " * attributes aren't merged into lines_rot, so attributes have to be taken from lines_clip\n",
    " * the simple rotation and translation seems to preserve the order in both lists, but this could be a potential issue\n",
    "* mfg.intersection returns\n",
    " * nodes : tuples of (row, column) that are intersected by a flowline reach\n",
    " * lengths : scalar lengths of flowline in each model cell corresponding to the above tuple\n",
    "* Each reach has a starting and ending elevation from NHDPlus. Interpolate these to the midpoint of each intersected segment in each cell. If starting and ending elevations are the same, return zero-gradient stream segments.\n",
    "* Loop through each set of nodes for each reach, adding each one to the list of drain/river cells for the current stress period. \n",
    "* Some reaches have (probably erroneously) have begining and ending stages = 0. These are ignored, but this could be an issue for coastal areas with discharge to estuaries (stage = 0).\n",
    "* Maintain a second list with information on reach ID, original length, and stream order"
   ]
  },
  {
   "cell_type": "code",
   "execution_count": 45,
   "metadata": {
    "collapsed": true
   },
   "outputs": [],
   "source": [
    "for period in range(NPER):\n",
    "    for rindex, reach in lines_clip.iterrows():\n",
    "        try:\n",
    "            data = np.array(lines_rot.geometry[rindex].coords[:])\n",
    "            nodes, lengths = mfg.intersection(data, 'line')\n",
    "\n",
    "    #         interpolate the begin and end segment elevation to the midpoint of the feature in each cell\n",
    "            cumlen = np.cumsum(lengths)\n",
    "            midpoint = cumlen - np.asarray(lengths) / 2\n",
    "            rise = reach.maxft - reach.minft\n",
    "            grad = rise / cumlen[-1]\n",
    "            stage = reach.maxft - midpoint * grad\n",
    "            if reach.maxft == reach.minft:\n",
    "                stage = np.ones_like(stage) * reach.minft\n",
    "    #         loop through the cells intersected by the feature\n",
    "            for nindex, (row, col) in enumerate(nodes):\n",
    "                riv_loc[row, col] = 1\n",
    "                temp = [0, row, col, stage[nindex], lengths[nindex]]\n",
    "                temp2 = [0, row, col, reach.StreamOrde, reach.ArbolateSu,reach.REACHCODE, reach.LENGTHKM, reach.intermit]        \n",
    "                #changing this to allow 0 stage segments\n",
    "#                 if stage[nindex] != 0:\n",
    "                perlist.append(temp)\n",
    "                per_order_list.append(temp2)\n",
    "        except (NotImplementedError, IndexError):\n",
    "            pass\n",
    "    drn_dict[period] = perlist\n",
    "    order_dict[period] = per_order_list"
   ]
  },
  {
   "cell_type": "markdown",
   "metadata": {},
   "source": [
    "Iterate through the drain/river list and put those values in an array using (row, column). "
   ]
  },
  {
   "cell_type": "code",
   "execution_count": 46,
   "metadata": {
    "collapsed": true
   },
   "outputs": [],
   "source": [
    "# riv_data = drn_dict\n",
    "riv_len = np.ones((NROW, NCOL), np.float) * hnoflo\n",
    "riv_stg = np.ones((NROW, NCOL), np.float) * hnoflo\n",
    "\n",
    "riv_data = drn_dict[0]\n",
    "for [l, r, c, s, cond] in riv_data:\n",
    "    row = int(r)\n",
    "    col = int(c)\n",
    "    stg = float(s)\n",
    "    stk = float(cond)\n",
    "    riv_len[row, col] = stk\n",
    "    riv_stg[row, col] = stg"
   ]
  },
  {
   "cell_type": "markdown",
   "metadata": {},
   "source": [
    "Do the same as above but with the lists of stream order and reach ID. lengthkm is the original reach length from NHDPlus, not the intersected length."
   ]
  },
  {
   "cell_type": "code",
   "execution_count": 47,
   "metadata": {
    "collapsed": true
   },
   "outputs": [],
   "source": [
    "riv_data = order_dict\n",
    "riv_ord = np.ones((NROW ,NCOL), np.int) * hnoflo\n",
    "riv_comid = np.zeros((NROW, NCOL)).astype(str) \n",
    "riv_reachlen = np.ones((NROW, NCOL), np.int) * hnoflo\n",
    "riv_intermit = np.zeros((NROW, NCOL)).astype(bool)\n",
    "riv_ArbolateSum = np.ones((NROW ,NCOL), np.int) * hnoflo\n",
    "\n",
    "riv_data = order_dict[0]\n",
    "for [l, r, c, order, arbolateSum,comid, lengthkm, intermit] in riv_data:\n",
    "    row = int(r) \n",
    "    col = int(c) \n",
    "    order = int(order)\n",
    "    reachlen = float(lengthkm)\n",
    "    riv_ord[row, col] = order\n",
    "    riv_ArbolateSum[row, col] = arbolateSum\n",
    "    riv_comid[row, col] = comid\n",
    "    riv_reachlen[row, col] = reachlen\n",
    "    riv_intermit[row, col] = intermit"
   ]
  },
  {
   "cell_type": "markdown",
   "metadata": {},
   "source": [
    "Add an attribute to the lake file for rasterizing later."
   ]
  },
  {
   "cell_type": "code",
   "execution_count": 48,
   "metadata": {
    "collapsed": false
   },
   "outputs": [],
   "source": [
    "# all_lakes = gp.read_file(lake_file)\n",
    "lakes = gp.read_file(lake_file)\n",
    "lakes['is_lake'] = 1\n",
    "lakes.to_crs(prj4, inplace=True)\n",
    "lakes.to_file(os.path.join(model_ws, 'lakes.shp'))"
   ]
  },
  {
   "cell_type": "markdown",
   "metadata": {},
   "source": [
    "## Project data sources onto modflow grid, store the data in a file called model_grid.csv, and write Geotiff images of all the data"
   ]
  },
  {
   "cell_type": "markdown",
   "metadata": {},
   "source": [
    "Create a blank dataframe and add 2D node numbers (NROW * NCOL) as the index."
   ]
  },
  {
   "cell_type": "code",
   "execution_count": 49,
   "metadata": {
    "collapsed": true
   },
   "outputs": [],
   "source": [
    "model_grid = pd.DataFrame()\n",
    "model_grid['node_num'] = np.arange(NROW * NCOL)\n",
    "model_grid.set_index('node_num', inplace=True)"
   ]
  },
  {
   "cell_type": "markdown",
   "metadata": {},
   "source": [
    "Open and read the NED grid for the current model area and store its projection. All other data sources will be projected into this projection. "
   ]
  },
  {
   "cell_type": "code",
   "execution_count": 50,
   "metadata": {
    "collapsed": true
   },
   "outputs": [],
   "source": [
    "src = os.path.join(nhd_dir, nhd_basin_dir, 'NEDSnapshot', rpu, 'elev_cm')\n",
    "ned = gdal.Open(src)\n",
    "shapeproj = ned.GetProjection()\n",
    "ned = None"
   ]
  },
  {
   "cell_type": "markdown",
   "metadata": {},
   "source": [
    "Add vector data sources to model_grid dataframe.\n",
    "* Better: put parameters in a nested list and loop through it."
   ]
  },
  {
   "cell_type": "markdown",
   "metadata": {},
   "source": [
    "If the model is from an inset or other more detailed model, read the ibound array based on the corresponding General Model for consistency. This is coded in the second block below."
   ]
  },
  {
   "cell_type": "code",
   "execution_count": 51,
   "metadata": {
    "collapsed": false
   },
   "outputs": [],
   "source": [
    "# if 'ibound_src' in ms.keys():\n",
    "#     ib_src = model_dict[ms['ibound_src']]['ws']\n",
    "#     ib_src = os.path.join(proj_dir, ib_src)\n",
    "#     ib_file = model_dict[ms['ibound_src']]['df']\n",
    "#     ib_shp = os.path.join(ib_src, ib_file)\n",
    "#     grid = process_vector_data(ib_shp, 'ibound')\n",
    "#     model_grid['ibound'] = grid.ravel()   \n",
    "# else:\n",
    "src = os.path.join(model_ws, 'domain_outline.shp')\n",
    "grid = process_vector_data(src, 'ibound')\n",
    "model_grid['ibound'] = grid.ravel()\n",
    "\n",
    "#src = os.path.join(model_ws, gage_file)\n",
    "#grid = process_vector_data(src, 'GAGE_ID')\n",
    "#model_grid['gage_id'] = grid.ravel()\n",
    "\n",
    "src = os.path.join(model_ws, 'NHD_clip.shp')\n",
    "grid = process_vector_data(src, 'StreamOrde')\n",
    "model_grid['stream_order'] = grid.ravel()\n",
    "\n",
    "src = os.path.join(model_ws, 'NHD_clip.shp')\n",
    "grid = process_vector_data(src, 'ArbolateSu')\n",
    "model_grid['arbolateSu'] = grid.ravel()\n",
    "\n",
    "gess_geology_file = 'GESS_poly.gdb'\n",
    "src = os.path.join(qa_dir, gess_geology_file)\n",
    "grid = process_vector_data(src, 'CrseStratSed')\n",
    "model_grid['gess_poly'] = grid.ravel()\n",
    "\n",
    "src = os.path.join(model_ws, 'lakes.shp')\n",
    "grid = process_vector_data(src, 'is_lake')\n",
    "model_grid['lake'] = grid.ravel()\n",
    "\n",
    "src = os.path.join(kauffman_surf_thick_dir, 'SedimentAquiferCharacteristics.shp')\n",
    "grid = process_vector_data(src, 'Quaternary')\n",
    "model_grid['kauffman_thk'] = grid.ravel()\n",
    "\n",
    "if 'zone_src' in ms.keys():\n",
    "    zone_src = ms['zone_src']\n",
    "    src = os.path.join(os.getcwd(),\"..\",\"input_data\",\"Zones\",zone_src)\n",
    "    grid = process_vector_data(src,'Zone')\n",
    "    model_grid['zone'] = grid.ravel()\n",
    "    \n",
    "if 'sewer_src' in ms.keys():\n",
    "    sewer_src = ms['sewer_src']\n",
    "    src = os.path.join(os.getcwd(),\"..\",\"input_data\",\"WaterUse\",sewer_src)\n",
    "    grid = process_vector_data(src,'Sewer')\n",
    "    model_grid['sewer'] = grid.ravel()\n",
    "    \n",
    "if 'pws_src' in ms.keys():\n",
    "    pws_src = ms['pws_src']\n",
    "    src = os.path.join(os.getcwd(),\"..\",\"input_data\",\"WaterUse\",pws_src)\n",
    "    grid = process_vector_data(src,'PWS')\n",
    "    model_grid['pws'] = grid.ravel()\n",
    "    \n",
    "if 'well_src' in ms.keys():\n",
    "    well_src = ms['well_src']\n",
    "    src = os.path.join(os.getcwd(),\"..\",\"input_data\",\"WaterUse\",well_src)\n",
    "    grid = process_vector_data(src,'Flux')\n",
    "    model_grid['well_Flux'] = grid.ravel()\n",
    "    \n",
    "    grid = process_vector_data(src,'APA')\n",
    "    model_grid['well_APA'] = grid.ravel()\n",
    "    \n",
    "if 'bedrock_geo' in ms.keys():\n",
    "    bedrock_src = ms['bedrock_geo']\n",
    "    src = os.path.join(os.getcwd(),\"..\",\"input_data\",\"BedrockGeology\",bedrock_src)\n",
    "    grid = process_vector_data(src,'LithSimpCd')\n",
    "    model_grid['BedLithSimp'] = grid.ravel()\n",
    "    \n",
    "if 'surf_geo' in ms.keys():\n",
    "    surficial_src = ms['surf_geo']\n",
    "    src = os.path.join(os.getcwd(),\"..\",\"input_data\",\"SurficialGeology\",surficial_src)\n",
    "    grid = process_vector_data(src,'SurfCode')\n",
    "    model_grid['SurfGeo'] = grid.ravel()"
   ]
  },
  {
   "cell_type": "markdown",
   "metadata": {},
   "source": [
    "Add raster data sources to model_grid dataframe.\n",
    "* Better: put parameters in a nested list and loop through it."
   ]
  },
  {
   "cell_type": "code",
   "execution_count": 52,
   "metadata": {
    "collapsed": false
   },
   "outputs": [],
   "source": [
    "src = os.path.join(nhd_dir, nhd_basin_dir, 'NEDSnapshot', rpu, 'elev_cm')\n",
    "grid = process_raster_data(src, gdal.GRA_Bilinear, 0.01)\n",
    "model_grid['ned'] = grid.ravel() # units of meters\n",
    "\n",
    "src = os.path.join(nhd_dir, nhd_basin_dir, 'NEDSnapshot', rpu, 'elev_cm')\n",
    "grid = process_raster_data(src, gdal.GRA_Average, 0.01)\n",
    "model_grid['ned_mean'] = grid.ravel() # units of meters\n",
    "\n",
    "src = os.path.join(os.getcwd(),\"..\",\"input_data\",\"CoastalBoundary\",\"CoastalBoundary_ned.tif\")\n",
    "grid = process_raster_data(src, gdal.GRA_Bilinear, 0.01)\n",
    "model_grid['ned_coast_min'] = grid.ravel() # units of meters\n",
    "\n",
    "src = os.path.join(nhd_dir, nhd_basin_dir, 'NHDPlusCatchment', 'cat')\n",
    "grid = process_raster_data(src, gdal.GRA_NearestNeighbour, 1)\n",
    "model_grid['catchment'] = grid.ravel()\n",
    "\n",
    "src = os.path.join(soller_surf_thick_dir, 'sim3392_sheet1_driftthickness.img')\n",
    "grid = process_raster_data(src, gdal.GRA_Bilinear, ft2m) # convert feet to meters\n",
    "model_grid['soller_thk'] = grid.ravel()\n",
    "\n",
    "src = os.path.join(soller_bedrock_topo_dir, 'sim3392_sheet2_bedrocktopo.img')\n",
    "grid = process_raster_data(src, gdal.GRA_Bilinear, ft2m) # convert feet to meters\n",
    "model_grid['bedrock_el'] = grid.ravel()\n",
    "\n",
    "src = os.path.join(nlcd_dir, 'nlcd_2011_landcover_2011_edition_2014_10_10.img')\n",
    "grid = process_raster_data(src, gdal.GRA_Mode, 1)\n",
    "model_grid['nlcd'] = grid.ravel()\n",
    "\n",
    "#population density\n",
    "src = os.path.join(pop_den_dir,'pden2010_60m.tif')\n",
    "grid = process_raster_data(src,gdal.GRA_Average,((L*L/1000/1000))) #converts from people / km2 to people / model cell\n",
    "model_grid['population']=grid.ravel()\n",
    "\n",
    "\n",
    "#Three sources for recharge values\n",
    "#SWB_NAWQA published values\n",
    "src = os.path.join(alt_recharge_SWB_NAWQA, 'SWB_Nawqa_mm.tif') #SWB_NAWQA, published, values in this file are mm/year, need to convert to m\n",
    "grid = process_raster_data(src, gdal.GRA_Bilinear, 0.001)\n",
    "model_grid['rch_eff_m_SWB_NAWQA'] = grid.ravel()\n",
    "\n",
    "\n",
    "#Reitz published values\n",
    "src = os.path.join(recharge_reitz, 'RC_eff_2013.tif') #Reitz, published, values in this file are m/year, no need to convert\n",
    "grid = process_raster_data(src, gdal.GRA_Bilinear, 1.0)\n",
    "model_grid['rch_eff_m_Reitz_2013'] = grid.ravel()\n",
    "\n",
    "#The Wolock recharge below is included as an alternative to Reitz for comparison purposes; user will have to specify in JN3\n",
    "src = os.path.join(alt_recharge_wolock, 'rech48grd') #Wolock, published, values in this file are mm/year, need to convert to m\n",
    "grid = process_raster_data(src, gdal.GRA_Bilinear, 0.001)\n",
    "model_grid['rch_m_Wolock'] = grid.ravel()\n",
    "\n",
    "if 'saltwater_src' in ms.keys():\n",
    "    \n",
    "    src = os.path.join(os.getcwd(),\"..\",\"input_data\",\"CoastalBoundary\",\"CoastalBoundaryDeep.tif\")\n",
    "    grid = process_raster_data(src,gdal.GRA_Average, 1.0)\n",
    "    model_grid['Coast_Deep'] = grid.ravel()\n",
    "    #model_grid[model_grid.Coast_Deep>0]=1\n",
    "    \n",
    "    src = os.path.join(os.getcwd(),\"..\",\"input_data\",\"CoastalBoundary\",\"CoastalBoundaryShallow.tif\")\n",
    "    grid = process_raster_data(src,gdal.GRA_Average, 1.0)\n",
    "    model_grid['Coast_Shallow'] = grid.ravel()\n",
    "    #model_grid[model_grid.Coast_Shallow>0]=1"
   ]
  },
  {
   "cell_type": "markdown",
   "metadata": {},
   "source": [
    "filter the pws to remove isolated cells with private wells (likely in error)"
   ]
  },
  {
   "cell_type": "code",
   "execution_count": 53,
   "metadata": {
    "collapsed": true
   },
   "outputs": [],
   "source": [
    "\n",
    "pws_tmp = deepcopy(model_grid.pws.values.reshape(NROW, NCOL))\n",
    "ib = model_grid.ibound.values.reshape(NROW,NCOL)\n",
    "'''\n",
    "Removes isolated cells from the array.\n",
    "Args: ibound array (nlay,nrow,ncol)\n",
    "\n",
    "from Wesley Zell\n",
    "'''\n",
    "\n",
    "# Distinguish disconnected clusters of active cells in the IBOUND array.\n",
    "# 0 is considered background; in MODLFOW, active cells are != 0.\n",
    "#reverse the counting to make pws the background and private wells the area of interest\n",
    "pws_tmp[pws_tmp == 0] = 2\n",
    "pws_tmp [pws_tmp==1]=0\n",
    "pws_tmp [pws_tmp!=0]=1\n",
    "pws_tmp = pws_tmp * ib\n",
    "\n",
    "array_of_cluster_idx, num = nd.measurements.label(pws_tmp)\n",
    "\n",
    "# Identify the cluster with the most active cells; this is the main active area\n",
    "areas = nd.measurements.sum(pws_tmp, array_of_cluster_idx,index=array_of_cluster_idx)\n",
    "\n",
    "#set all clusters with area <= 3 to 0\n",
    "pws_tmp[areas<=3]=0\n",
    "\n",
    "#now reverse the numbering\n",
    "pws_tmp[pws_tmp == 0] = 2\n",
    "pws_tmp [pws_tmp==1]=0\n",
    "pws_tmp [pws_tmp!=0]=1\n",
    "pws_tmp = pws_tmp*ib\n",
    "\n",
    "model_grid['pws'] = deepcopy(pws_tmp.ravel())"
   ]
  },
  {
   "cell_type": "markdown",
   "metadata": {},
   "source": [
    "Process MOHP data. Each region could have a different number of stream-order-based MOHP data sources, so this processing has to be handled differently from regular raster sources.  One complication is that the projection information has to be translated from ESRI's custom version of the WKT format."
   ]
  },
  {
   "cell_type": "code",
   "execution_count": 54,
   "metadata": {
    "collapsed": true
   },
   "outputs": [],
   "source": [
    "try:   \n",
    "    srcdir = mohp_dir\n",
    "    rpu_file = 'pctdistR{}'.format(int(rpu[3:5]))\n",
    "    tif_files = []\n",
    "\n",
    "# search MOHP first-generation directory for tif files and store them in a list\n",
    "    for root, dirs, files in os.walk(srcdir):\n",
    "        for f in files:\n",
    "            if f.endswith('tif'):\n",
    "                if rpu_file in f:\n",
    "                    src_pth = os.path.join(root, f)\n",
    "                    tif_files.append(src_pth)\n",
    "                \n",
    "# process MOHP data into an array corresponding to the model grid\n",
    "    arr = process_mohp_data(tif_files)\n",
    "\n",
    "# unpack the array and add each column to model_grid\n",
    "    for col, src in enumerate(tif_files):\n",
    "        key = os.path.basename(src).split('.')[0]\n",
    "        key = 'HP_{}'.format(key[9:])\n",
    "        model_grid[key] = arr[:, col]\n",
    "    \n",
    "except:\n",
    "    pass"
   ]
  },
  {
   "cell_type": "code",
   "execution_count": 55,
   "metadata": {
    "collapsed": true
   },
   "outputs": [],
   "source": [
    "try:  \n",
    "    srcdir = mohp2_dir\n",
    "    tif_files = []\n",
    "\n",
    "# search MOHP second-generation directory for tif files and store them in a list\n",
    "    for root, dirs, files in os.walk(srcdir):\n",
    "        for f in files:\n",
    "            if f.endswith('tif'):\n",
    "                src_pth = os.path.join(root, f)\n",
    "                tif_files.append(src_pth)\n",
    "\n",
    "# process MOHP data into an array corresponding to the model grid\n",
    "    arr = process_mohp_data(tif_files)\n",
    "\n",
    "# unpack the array and add each column to model_grid\n",
    "    for col, src in enumerate(tif_files):\n",
    "        key = os.path.basename(src).split('.')[0]\n",
    "        key = 'HP2_{}'.format(key.split('_')[0])\n",
    "        model_grid[key] = arr[:, col]\n",
    "except:\n",
    "    pass"
   ]
  },
  {
   "cell_type": "code",
   "execution_count": 56,
   "metadata": {
    "collapsed": true
   },
   "outputs": [],
   "source": [
    "try:    \n",
    "    srcdir = thies2_dir\n",
    "    tif_files = []\n",
    "\n",
    "# search MOHP-Thiessen polygon directory for tif files and store them in a list\n",
    "    for root, dirs, files in os.walk(srcdir):\n",
    "        for f in files:\n",
    "            if f.endswith('tif'):\n",
    "                src_pth = os.path.join(root, f)\n",
    "                tif_files.append(src_pth)\n",
    "\n",
    "# process MOHP data into an array corresponding to the model grid\n",
    "    arr = process_mohp_data(tif_files)\n",
    "\n",
    "# unpack the array and add each column to model_grid\n",
    "    for col, src in enumerate(tif_files):\n",
    "        key = os.path.basename(src).split('.')[0]\n",
    "        key = 'HPTH_{}'.format(key.split('_')[0])\n",
    "        model_grid[key] = arr[:, col]\n",
    "except:\n",
    "    pass"
   ]
  },
  {
   "cell_type": "code",
   "execution_count": 57,
   "metadata": {
    "collapsed": true
   },
   "outputs": [],
   "source": [
    "try: \n",
    "    srcdir = pour_dir\n",
    "    rpu_file = 'or{}'.format(int(rpu[3:5]))\n",
    "    grid_files = []\n",
    "\n",
    "# search MOHP pour-point-elevation directory for tif files and store them in a list\n",
    "    for root, dirs, files in os.walk(srcdir):\n",
    "        for d in dirs:\n",
    "            if d[:2] == 'or':\n",
    "                src_pth = os.path.join(root, d)\n",
    "                grid_files.append(src_pth)\n",
    "\n",
    "# process MOHP data into an array corresponding to the model grid\n",
    "    arr = process_mohp_data(tif_files)\n",
    "\n",
    "# unpack the array and add each column to model_grid\n",
    "    for col, src in enumerate(tif_files):\n",
    "        key = os.path.basename(src).split('.')[0]\n",
    "        key = 'PP_{}'.format(key[2:])\n",
    "        model_grid[key] = arr[:, col]\n",
    "except:\n",
    "    pass"
   ]
  },
  {
   "cell_type": "markdown",
   "metadata": {},
   "source": [
    "Filter the ibound array to get rid of disconnected cells.  This is a trial-and-error process. The filter is selected in model_spec.py. One of these filters can be used if there are isolated nodes appearing because of the discretization. The filter is specified in the model dictionary in model_spec.py.\n",
    "\n",
    "use nd.image.measurements\n"
   ]
  },
  {
   "cell_type": "code",
   "execution_count": 58,
   "metadata": {
    "collapsed": true
   },
   "outputs": [],
   "source": [
    "# ib = model_grid.ibound.reshape(NROW, NCOL)\n",
    "# if ib_filter == 0:\n",
    "#     pass\n",
    "# elif ib_filter == 1:\n",
    "#     filtr = np.array([[0,1,0], [1,4,1], [0,1,0]])\n",
    "#     ib = nd.correlate(ib, filtr, mode='constant', cval=0) > 5\n",
    "# elif ib_filter == 2:\n",
    "#     # alternate filter 11/5/2014\n",
    "#     filtr = np.array([[0,0,1,0,0], [0,0,4,0,0], [1,4,16,4,1], [0,0,4,0,0], [0,0,1,0,0]])\n",
    "#     ib = nd.correlate(ib, filtr, mode='constant', cval=0) > 29\n",
    "# else: \n",
    "#     pass\n",
    "\n",
    "# ib = ib.astype(int)\n",
    "# model_grid['ibound'] = ib.ravel()"
   ]
  },
  {
   "cell_type": "code",
   "execution_count": 59,
   "metadata": {
    "collapsed": false
   },
   "outputs": [],
   "source": [
    "# An improved filter than that above.\n",
    "ib = model_grid.ibound.values.reshape(NROW, NCOL)\n",
    "'''\n",
    "Removes isolated active cells from the IBOUND array.\n",
    "Args: ibound array (nlay,nrow,ncol)\n",
    "\n",
    "from Wesley Zell\n",
    "'''\n",
    "\n",
    "# Distinguish disconnected clusters of active cells in the IBOUND array.\n",
    "# 0 is considered background; in MODLFOW, active cells are != 0.\n",
    "ib[ib != 0] = 1\n",
    "array_of_cluster_idx, num = nd.measurements.label(ib)\n",
    "\n",
    "# Identify the cluster with the most active cells; this is the main active area\n",
    "areas = nd.measurements.sum(ib, array_of_cluster_idx,\\\n",
    "                         index=np.arange(array_of_cluster_idx.max() + 1))\n",
    "max_cluster_idx = np.argmax(areas)\n",
    "\n",
    "# Inactivate all cells that belong to secondary clusters (e.g., islands)\n",
    "ib[array_of_cluster_idx != max_cluster_idx] = 0\n",
    "ib = ib.astype(int)\n",
    "model_grid['ibound'] = ib.ravel()"
   ]
  },
  {
   "cell_type": "markdown",
   "metadata": {},
   "source": [
    "Filter ibound to make a grid of edge cells. Intersect this with the lake grid. Cell that are on the edge of the model and are in lakes could be treated as GHB cells.  This is not implemented yet, but the code would be very similar to the code above for drain/river cells. FloPy GHB requires a dictionary of lists similar to river/drain."
   ]
  },
  {
   "cell_type": "code",
   "execution_count": 60,
   "metadata": {
    "collapsed": false
   },
   "outputs": [],
   "source": [
    "filtr = np.ones((3,3))\n",
    "not_solid = nd.correlate(ib, filtr, mode='constant', cval=0) < 9\n",
    "\n",
    "edge = (ib + not_solid) == 2\n",
    "edge = edge.astype(int)\n",
    "model_grid['edge'] = edge.ravel()\n",
    "\n",
    "lakes_arr = model_grid.lake.values.reshape(NROW, NCOL)\n",
    "lake_blur = nd.correlate(lakes_arr, filtr, mode='constant', cval=0) > 0\n",
    "\n",
    "ghb = (edge + lake_blur) == 2\n",
    "ghb = ghb.astype(int)\n",
    "model_grid['ghb'] = ghb.ravel()"
   ]
  },
  {
   "cell_type": "markdown",
   "metadata": {},
   "source": [
    "Add drain/river information to model_grid. "
   ]
  },
  {
   "cell_type": "code",
   "execution_count": 61,
   "metadata": {
    "collapsed": false
   },
   "outputs": [],
   "source": [
    "model_grid['stage'] = riv_stg.ravel()\n",
    "model_grid['segment_len'] = riv_len.ravel()\n",
    "model_grid['order'] = riv_ord.ravel()\n",
    "model_grid['reachcode'] = riv_comid.ravel()\n",
    "model_grid['reach_intermit'] = riv_intermit.ravel()\n",
    "model_grid['reach_len'] = riv_reachlen.ravel()\n",
    "model_grid['reach_int'] = pd.Categorical(model_grid.reachcode).codes"
   ]
  },
  {
   "cell_type": "markdown",
   "metadata": {},
   "source": [
    "The NHDPlus has a small number of MAXELEVSMO and MINELEVSMO in (mostly?) first order streams that are set to a missing value code -9980. Converted to meters this is -99.80. Replace all such values with the NED value minus 1 (meter). "
   ]
  },
  {
   "cell_type": "code",
   "execution_count": 62,
   "metadata": {
    "collapsed": true
   },
   "outputs": [],
   "source": [
    "model_grid['stage'] = np.where(model_grid.stage == -99.98, model_grid.ned - 1., model_grid.stage)"
   ]
  },
  {
   "cell_type": "markdown",
   "metadata": {},
   "source": [
    "GHB is used for marine boundaries along cells (and rivers) within the coastal boundary shapefile (marine or estuarine wetlands)"
   ]
  },
  {
   "cell_type": "code",
   "execution_count": 63,
   "metadata": {
    "collapsed": false
   },
   "outputs": [],
   "source": [
    "model_grid['ghb_sea']=0\n",
    "#setting the ghb for cells within deep or shallow marine / estuarine wetlands\n",
    "model_grid.loc[(model_grid['Coast_Deep']>0) | (model_grid['Coast_Shallow']>0),'ghb_sea']=1\n",
    "\n",
    "#convert the depth of saltwater to a freshwater head using the depth and the densities of each\n",
    "#fresh_head = (den_sea / den_fresh)*sea_level - [(den_sea - den_fresh)/den_fresh]*depth_sea\n",
    "model_grid['fresh_head']=(den_salt / den_fresh)*sea_level - ((den_salt-den_fresh)/den_fresh)*(sea_level - model_grid['ned_coast_min'])\n",
    "\n",
    "#if the elevation is > sea level, assume salinity = 0\n",
    "model_grid.loc[model_grid['ned_coast_min']>sea_level,'fresh_head']= model_grid['ned_coast_min']\n",
    "\n",
    "#changing rivers within the coastal boundary to ghb using salinity = 0 and the river stage\n",
    "# model_grid.loc[(model_grid['ghb_sea']==1) & (model_grid.stage> -9990),'fresh_head']=model_grid.loc[(model_grid['ghb_sea']==1) & (model_grid.stage> -9990),'stage']\n",
    "\n",
    "#change the stage to np.nan to avoid adding a drain as well\n",
    "model_grid.loc[(model_grid['ghb_sea']==1) & (model_grid.stage> -9990),'stage']=-9999"
   ]
  },
  {
   "cell_type": "markdown",
   "metadata": {},
   "source": [
    "Replace hnoflo values with NaN"
   ]
  },
  {
   "cell_type": "code",
   "execution_count": 64,
   "metadata": {
    "collapsed": true
   },
   "outputs": [],
   "source": [
    "model_grid[model_grid == hnoflo] = np.nan"
   ]
  },
  {
   "cell_type": "markdown",
   "metadata": {},
   "source": [
    "Replace grid-cell-mean NED elevations with interpolated stream stage, but only in model cells that contain a stream. The resulting data is called 'top'."
   ]
  },
  {
   "cell_type": "code",
   "execution_count": 65,
   "metadata": {
    "collapsed": true
   },
   "outputs": [],
   "source": [
    "model_grid['top'] = model_grid.ned_mean\n",
    "index = model_grid.stage.notnull()\n",
    "model_grid.loc[index, 'top'] = model_grid.stage"
   ]
  },
  {
   "cell_type": "markdown",
   "metadata": {},
   "source": [
    "replace grid-cell mean NED elevations with fresh head for ghb cells with top above fresh head"
   ]
  },
  {
   "cell_type": "code",
   "execution_count": 66,
   "metadata": {
    "collapsed": true
   },
   "outputs": [],
   "source": [
    "index = (model_grid.ghb_sea==1) & (model_grid.fresh_head<model_grid.top)\n",
    "model_grid.loc[index, 'top'] = model_grid.fresh_head"
   ]
  },
  {
   "cell_type": "markdown",
   "metadata": {},
   "source": [
    "Add layer, row, column to model_grid."
   ]
  },
  {
   "cell_type": "code",
   "execution_count": 67,
   "metadata": {
    "collapsed": true
   },
   "outputs": [],
   "source": [
    "model_grid['lay'] = 0\n",
    "row, col = np.mgrid[0:NROW:1, 0:NCOL:1]\n",
    "\n",
    "model_grid['row'] = row.ravel()\n",
    "model_grid['col'] = col.ravel()"
   ]
  },
  {
   "cell_type": "markdown",
   "metadata": {},
   "source": [
    "Add observation type to cells.  \"hydro\" if a perennial stream, \"topo\" everywhere else."
   ]
  },
  {
   "cell_type": "code",
   "execution_count": 68,
   "metadata": {
    "collapsed": true
   },
   "outputs": [],
   "source": [
    "is_active = model_grid.ibound != 0\n",
    "is_intermit = model_grid.reach_intermit\n",
    "is_sea = model_grid.ghb_sea ==1\n",
    "#marine cells (those with ghb_sea boundary) are included as hydro observationgs\n",
    "hydro_index = model_grid.stage.notnull() | is_sea\n",
    "topo_index = model_grid.stage.isnull()\n",
    "\n",
    "is_hydro_obs = is_active & ~is_intermit & hydro_index\n",
    "is_topo_obs = is_active & ~is_hydro_obs & ~ is_sea\n",
    "\n",
    "model_grid.loc[is_hydro_obs, 'obs_type'] = 'hydro'\n",
    "model_grid.loc[is_topo_obs, 'obs_type'] = 'topo'"
   ]
  },
  {
   "cell_type": "markdown",
   "metadata": {},
   "source": [
    "Add distance to nearest stream cell."
   ]
  },
  {
   "cell_type": "code",
   "execution_count": 69,
   "metadata": {
    "collapsed": true
   },
   "outputs": [],
   "source": [
    "delr = np.ones((NCOL)) * L\n",
    "delc = np.ones((NROW)) * L\n",
    "grid_len_y = L * NROW\n",
    "x = np.cumsum(delr) - delr / 2 \n",
    "y = grid_len_y - (np.cumsum(delc) - delc / 2 )\n",
    "xc, yc = np.meshgrid(x, y)\n",
    "model_grid['xc'] = xc.ravel()\n",
    "model_grid['yc'] = yc.ravel()\n",
    "\n",
    "stream_cells = model_grid.loc[is_hydro_obs, ['xc', 'yc']]\n",
    "topo_cells = model_grid.loc[is_topo_obs, ['xc', 'yc']]\n",
    "\n",
    "# try:\n",
    "#     tmp = ss.distance.cdist(topo_cells, stream_cells)\n",
    "#     ctmp = tmp.min(axis=1)\n",
    "\n",
    "#     topo_cells['dist2str'] = ctmp\n",
    "#     model_grid = model_grid.join(topo_cells, how='outer', lsuffix='r_', rsuffix='l_')\n",
    "#     model_grid.loc[model_grid.obs_type == 'hydro', ['dist2str']] = np.sqrt(L ** 2 / ( 4 * np.pi ))\n",
    "# except (ValueError, MemoryError):\n",
    "#     pass"
   ]
  },
  {
   "cell_type": "code",
   "execution_count": 70,
   "metadata": {
    "collapsed": true
   },
   "outputs": [],
   "source": [
    "no_grid_cols = [u'segment_len', u'reachcode', u'reach_len', u'reach_int', u'obs_type',\n",
    "                u'lay', u'xcl_', u'ycl_', u'xcr_', u'ycr_']"
   ]
  },
  {
   "cell_type": "markdown",
   "metadata": {},
   "source": [
    "Loop through all the columns in model_grid and write a GeoTiff of the data."
   ]
  },
  {
   "cell_type": "code",
   "execution_count": 71,
   "metadata": {
    "collapsed": false,
    "scrolled": true
   },
   "outputs": [],
   "source": [
    "for column, item in model_grid.iteritems():\n",
    "    if column not in no_grid_cols:\n",
    "        fname = '{}.tif'.format(column)\n",
    "        dst = os.path.join(model_ws, fname)\n",
    "        if os.path.exists(dst):\n",
    "            os.remove(dst)\n",
    "        data = item.values.reshape(NROW,NCOL)\n",
    "        make_raster(dst, data, NCOL, NROW, gt, shapeproj, np.nan)"
   ]
  },
  {
   "cell_type": "markdown",
   "metadata": {},
   "source": [
    "Write model_grid to model_grid.csv"
   ]
  },
  {
   "cell_type": "code",
   "execution_count": 72,
   "metadata": {
    "collapsed": true
   },
   "outputs": [],
   "source": [
    "model_file = os.path.join(model_ws, 'model_grid')\n",
    "model_file = '{}.csv'.format(model_file)\n",
    "model_grid.to_csv(model_file)"
   ]
  },
  {
   "cell_type": "code",
   "execution_count": 73,
   "metadata": {
    "collapsed": false,
    "scrolled": false
   },
   "outputs": [
    {
     "data": {
      "text/plain": [
       "<matplotlib.image.AxesImage at 0x1810443b278>"
      ]
     },
     "execution_count": 73,
     "metadata": {},
     "output_type": "execute_result"
    },
    {
     "data": {
      "image/png": "iVBORw0KGgoAAAANSUhEUgAAAXoAAAC5CAYAAAAmq/Q+AAAABHNCSVQICAgIfAhkiAAAAAlwSFlz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\nhRZ6xGkR9AsttNBCjzj9f2+qXh79LEuAAAAAAElFTkSuQmCC\n",
      "text/plain": [
       "<matplotlib.figure.Figure at 0x1817fd0ee48>"
      ]
     },
     "metadata": {},
     "output_type": "display_data"
    }
   ],
   "source": [
    "ma = np.ma.MaskedArray(model_grid.ned.values.reshape(NROW,NCOL), mask=(ib==0))\n",
    "plt.imshow(model_grid.ned.values.reshape(NROW,NCOL))"
   ]
  },
  {
   "cell_type": "code",
   "execution_count": null,
   "metadata": {
    "collapsed": true
   },
   "outputs": [],
   "source": []
  }
 ],
 "metadata": {
  "kernelspec": {
   "display_name": "Python 3",
   "language": "python",
   "name": "python3"
  },
  "language_info": {
   "codemirror_mode": {
    "name": "ipython",
    "version": 3
   },
   "file_extension": ".py",
   "mimetype": "text/x-python",
   "name": "python",
   "nbconvert_exporter": "python",
   "pygments_lexer": "ipython3",
   "version": "3.5.3"
  },
  "widgets": {
   "state": {
    "e06b41584782476ebb2735afc7a55e98": {
     "views": [
      {
       "cell_index": 5
      }
     ]
    }
   },
   "version": "1.2.0"
  }
 },
 "nbformat": 4,
 "nbformat_minor": 1
}
